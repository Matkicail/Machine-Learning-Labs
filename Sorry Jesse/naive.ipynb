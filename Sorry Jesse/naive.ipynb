{
 "cells": [
  {
   "cell_type": "markdown",
   "metadata": {},
   "source": [
    "Imports for the functions"
   ]
  },
  {
   "cell_type": "code",
   "execution_count": 30,
   "metadata": {},
   "outputs": [],
   "source": [
    "import collections\n",
    "import random\n",
    "import numpy as np\n",
    "import re"
   ]
  },
  {
   "cell_type": "markdown",
   "metadata": {},
   "source": [
    "Open txt file that is saved in the same folder. Then read in reviews and assign entries starting with ones to positive reviews and those with -1 to negative reviews"
   ]
  },
  {
   "cell_type": "code",
   "execution_count": 68,
   "metadata": {},
   "outputs": [
    {
     "name": "stdout",
     "output_type": "stream",
     "text": [
      "['1 the food is lovely', '1 this is a great restaurant', '1 i really enjoyed my food', '1 i enjoyed the experience at the restaurant', '1 we had a lovely meal', '1 my food tasted great', '1 the service was great', '1 what a lovely restaurant', '1 the food the service and the restaurant was great', '-1 the service is terrible', '-1 the food tasted awful', '-1 this is a bad restaurant', '-1 the food was really bad', '-1 the service and the food was terrible', '-1 we had a terrible experience', '-1 avoid this restaurant', '-1 avoid the food', '-1 the meal was terrible']\n",
      "['1 the food is lovely', '1 this is a great restaurant', '1 i really enjoyed my food', '1 i enjoyed the experience at the restaurant', '1 we had a lovely meal', '1 my food tasted great', '1 the service was great', '1 what a lovely restaurant', '1 the food the service and the restaurant was great']\n",
      "['-1 the service is terrible', '-1 the food tasted awful', '-1 this is a bad restaurant', '-1 the food was really bad', '-1 the service and the food was terrible', '-1 we had a terrible experience', '-1 avoid this restaurant', '-1 avoid the food', '-1 the meal was terrible']\n"
     ]
    }
   ],
   "source": [
    "usingSmoothing = True\n",
    "\n",
    "with open('simple-food-reviews.txt') as reviewsDoc:\n",
    "    reviews = [line.rstrip() for line in reviewsDoc]\n",
    "    positiveReviews = reviews[0:9]\n",
    "    negativeReviews = reviews[9:18]\n",
    "    \n",
    "    print(reviews)\n",
    "    print(positiveReviews)\n",
    "    #print(positiveReviews.shape)\n",
    "    print(negativeReviews)    #print(negativeReviews.shape)   "
   ]
  },
  {
   "cell_type": "markdown",
   "metadata": {},
   "source": [
    "Just a function so split he words and return a counter set for the words. The counter function creates a two-tuple where you have (the word : number of occurences)\n",
    "It needs to be passed a split array otherwise if you give it just a string it breaks down to letters - be warned."
   ]
  },
  {
   "cell_type": "code",
   "execution_count": 70,
   "metadata": {},
   "outputs": [],
   "source": [
    "def counter_text(randomReview):\n",
    "    word = randomReview.split(' ')\n",
    "    return collections.Counter(word)"
   ]
  },
  {
   "cell_type": "markdown",
   "metadata": {},
   "source": [
    "Generate 12 random numbers from 0-17 so that we can choose some reviews to use for training. Assign the positive reviews to random positives so that we can tell which reviews are positive, do the same for the random negative reviews. Finally choose the reviews which are not known whether positive or negative that we will test using. Store their actual value 1 or -1 in an array with the corresponding indices."
   ]
  },
  {
   "cell_type": "code",
   "execution_count": 71,
   "metadata": {},
   "outputs": [
    {
     "name": "stdout",
     "output_type": "stream",
     "text": [
      "[7 5]\n",
      "Counter({'the': 7, 'food': 4, 'great': 3, 'lovely': 2, 'service': 2, 'restaurant': 2, 'was': 2, 'my': 2, 'i': 2, 'enjoyed': 2, 'is': 1, 'and': 1, 'tasted': 1, 'we': 1, 'had': 1, 'a': 1, 'meal': 1, 'experience': 1, 'at': 1, 'really': 1})\n",
      "Counter({'the': 4, 'terrible': 3, 'service': 2, 'food': 2, 'avoid': 2, 'is': 1, 'we': 1, 'had': 1, 'a': 1, 'experience': 1, 'and': 1, 'was': 1, 'this': 1, 'restaurant': 1})\n"
     ]
    }
   ],
   "source": [
    "x = np.array(random.sample(range(0,17),12))\n",
    "y = np.array([0,1,2,3,4,5,6,7,8,9,10,11,12,13,14,15,16,17])\n",
    "\n",
    "randomReview = np.empty((0))\n",
    "randomPositives = np.empty((0))\n",
    "randomNegatives = np.empty((0))\n",
    "testReviews = np.empty((0))\n",
    "testReviewsAns = np.empty((0))\n",
    "posC = collections.Counter()\n",
    "negC = collections.Counter()\n",
    "numN = 0\n",
    "for i in range(12):\n",
    "    if x[i] < 9:\n",
    "        word = reviews[x[i]].split('1 ')\n",
    "        randomPositives = np.append(randomPositives, word[1])\n",
    "        posC = posC + counter_text(word[1])\n",
    "    elif x[i] > 8:\n",
    "        word = reviews[x[i]].split('-1 ')\n",
    "        randomNegatives = np.append(randomNegatives, word[1])\n",
    "        negC = negC + counter_text(word[1])\n",
    "for i in range(18):\n",
    "    if i not in x:\n",
    "        word = reviews[i].split(' ', 1)\n",
    "        testReviews = np.append(testReviews, word[1])\n",
    "        testReviewsAns = np.append(testReviewsAns, word[0])\n",
    "        \n",
    "labelCounts = np.array([len(randomPositives),len(randomNegatives)])\n",
    "print(labelCounts)\n",
    "print(posC)\n",
    "print(negC)"
   ]
  },
  {
   "cell_type": "markdown",
   "metadata": {},
   "source": [
    "Now that we have them seperated we need to create a collection of words so that we can find the conditional probabilities. So let us have a list of the words and then their respective frequency - this will make it easy to add words should neither category contain them later on."
   ]
  },
  {
   "cell_type": "code",
   "execution_count": 72,
   "metadata": {},
   "outputs": [
    {
     "name": "stdout",
     "output_type": "stream",
     "text": [
      "[('the', 11), ('food', 6), ('is', 2), ('lovely', 2), ('service', 4), ('and', 2), ('restaurant', 3), ('was', 3), ('great', 3), ('my', 2), ('tasted', 1), ('we', 2), ('had', 2), ('a', 2), ('meal', 1), ('i', 2), ('enjoyed', 2), ('experience', 2), ('at', 1), ('really', 1), ('terrible', 3), ('avoid', 2), ('this', 1)]\n",
      "['the', 'food', 'is', 'lovely', 'service', 'and', 'restaurant', 'was', 'great', 'my', 'tasted', 'we', 'had', 'a', 'meal', 'i', 'enjoyed', 'experience', 'at', 'really']\n",
      "['the', 'food', 'is', 'lovely', 'service', 'and', 'restaurant', 'was', 'great', 'my', 'tasted', 'we', 'had', 'a', 'meal', 'i', 'enjoyed', 'experience', 'at', 'really', 'terrible', 'avoid', 'this']\n",
      "['the', 'service', 'is', 'terrible', 'we', 'had', 'a', 'experience', 'and', 'food', 'was', 'avoid', 'this', 'restaurant']\n"
     ]
    }
   ],
   "source": [
    "allC = posC + negC\n",
    "itemsAll = list(allC.items())\n",
    "wordsAll, numberAll = [list(c) for c in zip(*itemsAll)]\n",
    "itemsNeg = list(negC.items())\n",
    "wordsNeg, numberNeg = [list(c) for c in zip(*itemsNeg)]\n",
    "itemsPos = list(posC.items())\n",
    "wordsPos, numberPos = [list(c) for c in zip(*itemsPos)]\n",
    "print(itemsAll)\n",
    "print(wordsPos)\n",
    "#print(numberPos)\n",
    "print(wordsAll)\n",
    "#print(numberAll)\n",
    "print(wordsNeg)\n",
    "#print(numberNeg)\n",
    "#print(itemsNeg)\n",
    "#print(itemsPos)"
   ]
  },
  {
   "cell_type": "markdown",
   "metadata": {},
   "source": [
    "Declare and fill main_table"
   ]
  },
  {
   "cell_type": "code",
   "execution_count": 73,
   "metadata": {},
   "outputs": [],
   "source": [
    "num_rows = len(wordsAll)\n",
    "main_table = np.zeros(shape = (num_rows,2))\n",
    "#print(main_table)\n",
    "#print(main_table.shape)"
   ]
  },
  {
   "cell_type": "markdown",
   "metadata": {},
   "source": [
    "Run this for non-laplace smoothing"
   ]
  },
  {
   "cell_type": "code",
   "execution_count": 79,
   "metadata": {},
   "outputs": [
    {
     "name": "stdout",
     "output_type": "stream",
     "text": [
      "7\n",
      "[[0.14285714 0.2       ]\n",
      " [0.14285714 0.2       ]\n",
      " [0.14285714 0.2       ]\n",
      " [0.14285714 0.4       ]\n",
      " [0.28571429 0.2       ]\n",
      " [0.14285714 0.2       ]\n",
      " [0.57142857 0.4       ]\n",
      " [0.42857143 0.2       ]\n",
      " [0.14285714 0.2       ]\n",
      " [0.28571429 0.2       ]\n",
      " [0.14285714 0.2       ]\n",
      " [0.28571429 0.2       ]\n",
      " [0.14285714 0.2       ]\n",
      " [0.28571429 0.2       ]\n",
      " [0.14285714 0.2       ]\n",
      " [0.28571429 0.2       ]\n",
      " [0.28571429 0.4       ]\n",
      " [0.14285714 0.2       ]\n",
      " [0.14285714 0.6       ]\n",
      " [1.         0.8       ]\n",
      " [0.14285714 0.2       ]\n",
      " [0.28571429 0.2       ]\n",
      " [0.14285714 0.2       ]]\n"
     ]
    }
   ],
   "source": [
    "numPosComments = 0\n",
    "numNegComments = 0\n",
    "if usingSmoothing:\n",
    "    numPosComments = len(randomPositives)\n",
    "    numNegComments = len(randomNegatives)\n",
    "\n",
    "    wordsAll = np.array(wordsAll)\n",
    "    wordsAll = np.unique(wordsAll)\n",
    "    #print(wordsAll)\n",
    "    #for each label\n",
    "    for i in range(2):\n",
    "        #for each word\n",
    "        for j in range(num_rows):\n",
    "            curr_value_prob = 1.0\n",
    "            if i == 0:\n",
    "                #Then positive comment\n",
    "                count_of_word = posC[wordsAll[j]]\n",
    "                if count_of_word == 0:\n",
    "                    count_of_word = 1\n",
    "                curr_value_prob = count_of_word/numPosComments\n",
    "            else:\n",
    "                #Then negative comment\n",
    "                count_of_word = negC[wordsAll[j]]\n",
    "                if count_of_word == 0:\n",
    "                    count_of_word = 1\n",
    "                curr_value_prob = count_of_word/numNegComments\n",
    "\n",
    "            main_table[j][i] = curr_value_prob\n",
    "\n",
    "    print(numPosComments)\n",
    "    print(main_table)\n",
    "else:\n",
    "    numPosComments = len(randomPositives)\n",
    "    numNegComments = len(randomNegatives)\n",
    "\n",
    "    wordsAll = np.array(wordsAll)\n",
    "    wordsAll = np.unique(wordsAll)\n",
    "    #print(wordsAll)\n",
    "    #for each label\n",
    "    for i in range(2):\n",
    "        #for each word\n",
    "        for j in range(num_rows):\n",
    "            curr_value_prob = 1.0\n",
    "            if i == 0:\n",
    "                #Then positive comment\n",
    "                count_of_word = posC[wordsAll[j]]\n",
    "                curr_value_prob = count_of_word/numPosComments\n",
    "            else:\n",
    "                #Then negative comment\n",
    "                count_of_word = negC[wordsAll[j]]\n",
    "                curr_value_prob = count_of_word/numNegComments\n",
    "\n",
    "            main_table[j][i] = curr_value_prob\n",
    "\n",
    "    print(numPosComments)\n",
    "    print(main_table)\n"
   ]
  },
  {
   "cell_type": "markdown",
   "metadata": {},
   "source": [
    "Predict function:"
   ]
  },
  {
   "cell_type": "code",
   "execution_count": 88,
   "metadata": {},
   "outputs": [],
   "source": [
    "def predict_value(data_point):\n",
    "    #data_point is vector(64) with pixels\n",
    "    numerator_values = np.zeros(2)\n",
    "    denominator = 0.0\n",
    "    for i in range(2):\n",
    "        curr_total = 1.0\n",
    "        for j in range(num_rows):\n",
    "            currWord = wordsAll[j]\n",
    "            \n",
    "            #currWordIndex = np.where(wordsAll == currWord)[0][0]\n",
    "            if currWord not in data_point:\n",
    "                #pixel is off\n",
    "                curr_total = curr_total*(1-main_table[j][i])\n",
    "            else:\n",
    "                curr_total = curr_total*(main_table[j][i])\n",
    "                \n",
    "        numerator_values[i] = curr_total*(labelCounts[i]/12)\n",
    "        denominator = denominator + numerator_values[i]\n",
    "    \n",
    "    #For each label get the prob\n",
    "    largestProb = -1\n",
    "    largestProbLabelNum = -1\n",
    "    for labelNum in range(2):\n",
    "        curr_prob = numerator_values[labelNum]/denominator\n",
    "        \n",
    "        #print(labelNum,curr_prob, denominator)\n",
    "        \n",
    "        if curr_prob > largestProb:\n",
    "            largestProb = curr_prob\n",
    "            largestProbLabelNum = labelNum\n",
    "        \n",
    "    \n",
    "    if largestProbLabelNum == 0:\n",
    "        return '1'\n",
    "    elif largestProbLabelNum == 1:\n",
    "        return '-1'"
   ]
  },
  {
   "cell_type": "markdown",
   "metadata": {},
   "source": [
    "Test function:"
   ]
  },
  {
   "cell_type": "code",
   "execution_count": 89,
   "metadata": {},
   "outputs": [
    {
     "name": "stdout",
     "output_type": "stream",
     "text": [
      "['this is a great restaurant' 'what a lovely restaurant'\n",
      " 'the food tasted awful' 'this is a bad restaurant'\n",
      " 'the food was really bad' 'the meal was terrible']\n",
      "['1' '1' '-1' '-1' '-1' '-1']\n"
     ]
    }
   ],
   "source": [
    "print(testReviews)\n",
    "print(testReviewsAns)"
   ]
  },
  {
   "cell_type": "code",
   "execution_count": 90,
   "metadata": {},
   "outputs": [
    {
     "name": "stdout",
     "output_type": "stream",
     "text": [
      "0 0.0 1.2666373951979533e-07\n",
      "1 1.0 1.2666373951979533e-07\n",
      "0 0.0 2.0266198323167253e-06\n",
      "1 1.0 2.0266198323167253e-06\n",
      "0 0.8244034854672995 0.0004924306901855442\n",
      "1 0.17559651453270045 0.0004924306901855442\n",
      "0 0.0 5.066549580791813e-07\n",
      "1 1.0 5.066549580791813e-07\n",
      "0 0.8825160113199567 0.0001840019091473906\n",
      "1 0.11748398868004338 0.0001840019091473906\n",
      "0 0.2944440889990886 6.893695484260294e-05\n",
      "1 0.7055559110009115 6.893695484260294e-05\n",
      "0.3333333333333333\n"
     ]
    }
   ],
   "source": [
    "total_num_tests = 6\n",
    "total_num_correct = 0\n",
    "#Predict each data_point\n",
    "for i in range(len(testReviews)):\n",
    "    test_dataPoint = testReviews[i].split(' ')\n",
    "    test_dataPointAnswer = testReviewsAns[i]\n",
    "    test_predict_answer = predict_value(test_dataPoint)\n",
    "    if test_dataPointAnswer == test_predict_answer:\n",
    "        total_num_correct = total_num_correct + 1\n",
    "\n",
    "accuracy = total_num_correct/total_num_tests\n",
    "print(accuracy)"
   ]
  },
  {
   "cell_type": "markdown",
   "metadata": {},
   "source": [
    "Calculate the probabilities of each probPos and probNeg. Could easily be done in one for loop. So if want to improve then just do it in one for loop instead. This should conclude the training portion since we have the required probabilities. I chose to do this function here so that we can use it in the question that does not do laplacian smoothing. It can be used easily then.\n",
    "If we were going to select a piece of data that would confuse it then all we need to do is from the random set of reviews use the set function and then use the disjoint of the random review to check if it is not contained - since any element part of the random review that our model has not seen would give a 0 probability for both p(1) and p(-1) for the reviews actual value."
   ]
  },
  {
   "cell_type": "code",
   "execution_count": null,
   "metadata": {},
   "outputs": [],
   "source": [
    "probPos = list()\n",
    "probNeg = list()\n",
    "size = len(wordsAll)\n",
    "for i in range(size):\n",
    "    try:\n",
    "        index = wordsPos.index(wordsAll[i])\n",
    "        if index >= 0:\n",
    "            probPos.append(numberPos[index]/numberAll[i])\n",
    "    except:\n",
    "        probPos.append(0)\n",
    "for i in range(size):\n",
    "    try:\n",
    "        index = wordsNeg.index(wordsAll[i])\n",
    "        if index >= 0:\n",
    "            probNeg.append(numberNeg[index]/numberAll[i])\n",
    "    except:\n",
    "        probNeg.append(0)\n",
    "\n",
    "        \n",
    "print(probPos)\n",
    "print(probNeg)"
   ]
  },
  {
   "cell_type": "markdown",
   "metadata": {},
   "source": [
    "                                                                        ##CURENTLY NOT WORKING##\n",
    "\n",
    "Now we need to take a sentence and calculate its most likely category, something is wrong here, definitely check to see what it is however feel free to check to see if the rest is working if you think I might have made a mistake. I tried to do a laplacian smoothing here where i checked to see if the word was contained in all before seen words and then to add an instance to each. It might be easier in this scenario to do a 'on the fly' check of each word, its index, number of times it occurs (since the list zip is in order) then we can always readily update however this will lead to slower computation speeds since we will be calculating that probability always. It might be easier for us though. Do what you feel would be easier or faster to complete the lab."
   ]
  },
  {
   "cell_type": "code",
   "execution_count": null,
   "metadata": {},
   "outputs": [],
   "source": [
    "def calcLikely()\n",
    "    return(probability)"
   ]
  },
  {
   "cell_type": "markdown",
   "metadata": {},
   "source": [
    "Just a quick run through of all the random reviews so that we can calculate the probability of each as required. Shows the probability of each and then what the actual value was."
   ]
  },
  {
   "cell_type": "code",
   "execution_count": null,
   "metadata": {},
   "outputs": [],
   "source": [
    "testReviewsSize = len(testReviews)\n",
    "numberOfPositives = len(randomPositives)\n",
    "numberOfNegatives = len(randomNegatives)\n",
    "#print(numberOfPositives)\n",
    "#print(numberOfNegatives)\n",
    "for i in range(testReviewsSize):\n",
    "    probabilities = np.array(calcLikely(testReviews[i], probPos, probNeg, wordsAll, wordsNeg, wordsPos, numberNeg, numberPos, numberAll, numberOfPositives, numberOfNegatives))\n",
    "    print(\"probability of 1 is \" + str(probabilities[0]))\n",
    "    print(\"probability of -1 is \" + str(probabilities[1]))\n",
    "    print(\"Answer is actually \" + str(testReviewsAns[i]))\n",
    "    #print(np.argmax(probabilities))\n",
    "    \n",
    "print(\"finished\")"
   ]
  }
 ],
 "metadata": {
  "kernelspec": {
   "display_name": "Python 3",
   "language": "python",
   "name": "python3"
  },
  "language_info": {
   "codemirror_mode": {
    "name": "ipython",
    "version": 3
   },
   "file_extension": ".py",
   "mimetype": "text/x-python",
   "name": "python",
   "nbconvert_exporter": "python",
   "pygments_lexer": "ipython3",
   "version": "3.7.4"
  }
 },
 "nbformat": 4,
 "nbformat_minor": 4
}
