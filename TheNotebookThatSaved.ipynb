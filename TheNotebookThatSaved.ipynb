{
 "cells": [
  {
   "cell_type": "markdown",
   "metadata": {},
   "source": [
    "Imports"
   ]
  },
  {
   "cell_type": "code",
   "execution_count": 52,
   "metadata": {},
   "outputs": [],
   "source": [
    "import os\n",
    "from pathlib import Path\n",
    "import numpy as np\n",
    "import random\n",
    "import collections\n",
    "import re"
   ]
  },
  {
   "cell_type": "code",
   "execution_count": 53,
   "metadata": {},
   "outputs": [],
   "source": [
    "def counter_text(randomReview):\n",
    "    word = randomReview.split(' ')\n",
    "    return collections.Counter(word)"
   ]
  },
  {
   "cell_type": "markdown",
   "metadata": {},
   "source": [
    "Find out how many files there are in this directory for the Harry Potter books (doing this for now but can do in a few ways)"
   ]
  },
  {
   "cell_type": "code",
   "execution_count": 54,
   "metadata": {},
   "outputs": [],
   "source": [
    "dirCurrent = os.path.abspath(os.curdir)\n",
    "path, dirs, files = next(os.walk(dirCurrent))\n",
    "#print(files)\n",
    "#print(path)\n",
    "#print(dirs)"
   ]
  },
  {
   "cell_type": "markdown",
   "metadata": {},
   "source": [
    "Need To find the number of lines in a Harry Potter book as well as load the lines.\n",
    "So I just read in each book assuming that they are in order, if they are not you can quickly just check using the above print function or printing below as it itterates but it should be in order."
   ]
  },
  {
   "cell_type": "code",
   "execution_count": 55,
   "metadata": {},
   "outputs": [],
   "source": [
    "bookNames = files[0:7] # Here we know that we only have 7 books but did this in case you wanted to later on have a 7th that is the book similar to HP\n",
    "lengthsOfBooks = np.empty(0)\n",
    "bookS = np.empty(0)\n",
    "AllLines = np.empty(0)\n",
    "for i in range(len(bookNames)):\n",
    "    tempBook = open(bookNames[i],'r')\n",
    "    linesTemp = tempBook.readlines()\n",
    "    AllLines = np.append(AllLines, linesTemp)\n",
    "    numLines = len(linesTemp)\n",
    "    lengthsOfBooks =  np.append(lengthsOfBooks, numLines)\n",
    "    #print(bookNames[i] + ' '+ str(numLines) + ' ' + str(np.sum(lengthsOfBooks)))\n",
    "    \n"
   ]
  },
  {
   "cell_type": "markdown",
   "metadata": {},
   "source": [
    "Next random 80% of the data to use for training\n",
    "Then find the 20% we will use for testing\n",
    "A quick note as to the book, page number and culmulative \n",
    "HP1.txt 347 347.0\n",
    "HP2.txt 377 724.0\n",
    "HP3.txt 486 1210.0\n",
    "HP4.txt 809 2019.0\n",
    "HP5.txt 1104 3123.0\n",
    "HP6.txt 728 3851.0\n",
    "HP7.txt 849 4700.0"
   ]
  },
  {
   "cell_type": "code",
   "execution_count": 56,
   "metadata": {},
   "outputs": [],
   "source": [
    "totalPages = int(np.sum(lengthsOfBooks))\n",
    "trainSize = int(0.8 * totalPages)\n",
    "#testSize = totalPages - trainSize\n",
    "trainingPages = np.array(random.sample(range(0,totalPages - 1),trainSize))\n",
    "#fullSetPages = np.arange(0,totalPages-1,1)"
   ]
  },
  {
   "cell_type": "markdown",
   "metadata": {},
   "source": [
    "The Plan now is to itterate from 0 to the toalNumberOfPages - 1, if the page is not in the trainingSet then assign it to the test set. \n",
    "Should probably do a straight to counter on this stuff, its just a lot of CPU preformance for a task that would need to be done again."
   ]
  },
  {
   "cell_type": "code",
   "execution_count": 57,
   "metadata": {},
   "outputs": [],
   "source": [
    "bookOne = collections.Counter()\n",
    "testBookOne = np.empty(0)\n",
    "bookTwo = collections.Counter()\n",
    "testBookTwo = np.empty(0)\n",
    "bookThree = collections.Counter()\n",
    "testBookThree = np.empty(0)\n",
    "bookFour = collections.Counter()\n",
    "testBookFour = np.empty(0)\n",
    "bookFive = collections.Counter()\n",
    "testBookFive = np.empty(0)\n",
    "bookSix = collections.Counter()\n",
    "testBookSix = np.empty(0)\n",
    "bookSeven = collections.Counter()\n",
    "testBookSeven = np.empty(0)\n",
    "for i in range(totalPages):\n",
    "    \n",
    "    if i in trainingPages:\n",
    "        if i < 347:\n",
    "            bookOne = bookOne + counter_text(AllLines[i])\n",
    "        elif i > 346 and i < 724:\n",
    "            bookTwo = bookTwo + counter_text(AllLines[i])\n",
    "        elif i > 723 and i < 1210:\n",
    "            bookThree = bookThree + counter_text(AllLines[i])\n",
    "        elif i > 1209 and i < 2019:\n",
    "            bookFour = bookFour + counter_text(AllLines[i])\n",
    "        elif i > 2018 and i < 3123:\n",
    "            bookFive = bookFive + counter_text(AllLines[i])\n",
    "        elif i > 3122 and i < 3851:\n",
    "            bookSix = bookSix + counter_text(AllLines[i])\n",
    "        else:\n",
    "            bookSeven = bookSeven + counter_text(AllLines[i])\n",
    "    else:\n",
    "        if i < 347:\n",
    "            testBookOne = np.append(testBookOne , AllLines[i])\n",
    "        elif i > 346 and i < 724:\n",
    "            #testBookTwo = testBookTwo + collections.Counter(sentenceWords)\n",
    "            np.append(testBookTwo , AllLines[i])\n",
    "        elif i > 723 and i < 1210:\n",
    "            #testBookThree = testBookThree + collections.Counter(sentenceWords)\n",
    "            np.append(testBookThree , AllLines[i])\n",
    "        elif i > 1209 and i < 2019:\n",
    "            #testBookFour = testBookFour + collections.Counter(sentenceWords)\n",
    "            np.append(testBookFour , AllLines[i])\n",
    "        elif i > 2018 and i < 3123:\n",
    "            #testBookFive = testBookFive + collections.Counter(sentenceWords)\n",
    "            np.append(testBookFive , AllLines[i])\n",
    "        elif i > 3122 and i < 3851:\n",
    "            #testBookSix = testBookSix + collections.Counter(sentenceWords)\n",
    "            np.append(testBookSix , AllLines[i])\n",
    "        else:\n",
    "            #testBookSeven = testBookSeven + collections.Counter(sentenceWords)\n",
    "            np.append(testBookSeven , AllLines[i])\n",
    "\n",
    "#Do not print unless you want the screen butchered\n",
    "#print(testBookOne)\n",
    "harryPotterAnthology = collections.Counter()\n",
    "harryPotterAnthology = bookOne + bookTwo + bookThree + bookFour + bookFive + bookSix + bookSeven\n"
   ]
  },
  {
   "cell_type": "markdown",
   "metadata": {},
   "source": [
    "Now just to seperate the data sets int words and numbers (using the zip), will need a list of all words so need to make a unified list so that we can calculate the probabilities.\n",
    "Note that the books are all stored individually with their respective data and the allBook is stored as well. Should allow you to check wether a word is contained first before doing a laplacian smoothing."
   ]
  },
  {
   "cell_type": "code",
   "execution_count": 58,
   "metadata": {},
   "outputs": [],
   "source": [
    "\n",
    "temp = list(bookOne.items())\n",
    "bookOneWords, bookOneNumber = [list(c) for c in zip(*temp)]\n",
    "\n",
    "temp = list(bookTwo.items())\n",
    "bookTwoWords, bookTwoNumber = [list(c) for c in zip(*temp)]\n",
    "\n",
    "temp = list(bookThree.items())\n",
    "bookThreeWords, bookThreeNumber = [list(c) for c in zip(*temp)]\n",
    "\n",
    "temp = list(bookFour.items())\n",
    "bookFourWords, bookFourNumber = [list(c) for c in zip(*temp)]\n",
    "\n",
    "temp = list(bookFive.items())\n",
    "bookFiveWords, bookFiveNumber = [list(c) for c in zip(*temp)]\n",
    "\n",
    "temp = list(bookSix.items())\n",
    "bookSixWords, bookSixNumber = [list(c) for c in zip(*temp)]\n",
    "\n",
    "temp = list(bookSeven.items())\n",
    "bookSevenWords, bookSevenNumber = [list(c) for c in zip(*temp)]\n",
    "\n",
    "temp = list(harryPotterAnthology.items())\n",
    "allBookWords, allBookNumber = [list(c) for c in zip(*temp)]\n",
    "\n",
    "#print(allBookWords)\n",
    "#print(allBookNumber)\n",
    "\n",
    "\n",
    "\n",
    "#print(temp)\n",
    "#print(tempWords)\n",
    "#print(tempCounter)"
   ]
  },
  {
   "cell_type": "code",
   "execution_count": null,
   "metadata": {},
   "outputs": [],
   "source": []
  }
 ],
 "metadata": {
  "kernelspec": {
   "display_name": "Python 3",
   "language": "python",
   "name": "python3"
  },
  "language_info": {
   "codemirror_mode": {
    "name": "ipython",
    "version": 3
   },
   "file_extension": ".py",
   "mimetype": "text/x-python",
   "name": "python",
   "nbconvert_exporter": "python",
   "pygments_lexer": "ipython3",
   "version": "3.7.4"
  }
 },
 "nbformat": 4,
 "nbformat_minor": 4
}
