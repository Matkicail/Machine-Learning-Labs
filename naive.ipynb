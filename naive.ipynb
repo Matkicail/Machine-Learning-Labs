{
 "cells": [
  {
   "cell_type": "markdown",
   "metadata": {},
   "source": [
    "Imports for the functions"
   ]
  },
  {
   "cell_type": "code",
   "execution_count": 7,
   "metadata": {},
   "outputs": [],
   "source": [
    "import collections\n",
    "import random\n",
    "import numpy as np\n",
    "import re"
   ]
  },
  {
   "cell_type": "code",
   "execution_count": null,
   "metadata": {},
   "outputs": [],
   "source": [
    "#Philani Mpofu (1848751)\n",
    "#Chloe Smith (1877342)\n",
    "#Matthew Kruger (1669326)\n",
    "#Jesse Bristow (1875955)"
   ]
  },
  {
   "cell_type": "markdown",
   "metadata": {},
   "source": [
    "Open txt file that is saved in the same folder. Then read in reviews and assign entries starting with ones to positive reviews and those with -1 to negative reviews"
   ]
  },
  {
   "cell_type": "code",
   "execution_count": 8,
   "metadata": {},
   "outputs": [],
   "source": [
    "with open('simple-food-reviews.txt') as reviewsDoc:\n",
    "    reviews = [line.rstrip() for line in reviewsDoc]\n",
    "    positiveReviews = reviews[0:8]\n",
    "    negativeReviews = reviews[9:17]"
   ]
  },
  {
   "cell_type": "markdown",
   "metadata": {},
   "source": [
    "Just a function so split he words and return a counter set for the words. The counter function creates a two-tuple where you have (the word : number of occurences)\n",
    "It needs to be passed a split array otherwise if you give it just a string it breaks down to letters - be warned."
   ]
  },
  {
   "cell_type": "code",
   "execution_count": 9,
   "metadata": {},
   "outputs": [],
   "source": [
    "def counter_text(randomReview):\n",
    "    word = randomReview.split(' ')\n",
    "    return collections.Counter(word)"
   ]
  },
  {
   "cell_type": "markdown",
   "metadata": {},
   "source": [
    "Generate 12 random numbers from 0-17 so that we can choose some reviews to use for training. Assign the positive reviews to random positives so that we can tell which reviews are positive, do the same for the random negative reviews. Finally choose the reviews which are not known whether positive or negative that we will test using. Store their actual value 1 or -1 in an array with the corresponding indices."
   ]
  },
  {
   "cell_type": "code",
   "execution_count": 10,
   "metadata": {},
   "outputs": [],
   "source": [
    "x = np.array(random.sample(range(0,17),12))\n",
    "y = np.array([0,1,2,3,4,5,6,7,8,9,10,11,12,13,14,15,16,17])\n",
    "\n",
    "randomReview = np.empty((0))\n",
    "randomPositives = np.empty((0))\n",
    "randomNegatives = np.empty((0))\n",
    "testReviews = np.empty((0))\n",
    "testReviewsAns = np.empty((0))\n",
    "posC = collections.Counter()\n",
    "negC = collections.Counter()\n",
    "numN = 0\n",
    "for i in range(12):\n",
    "    if x[i] < 9:\n",
    "        word = reviews[x[i]].split('1 ')\n",
    "        randomPositives = np.append(randomPositives, word[1])\n",
    "        posC = posC + counter_text(word[1])\n",
    "    elif x[i] > 8:\n",
    "        word = reviews[x[i]].split('-1 ')\n",
    "        randomNegatives = np.append(randomNegatives, word[1])\n",
    "        negC = negC + counter_text(word[1])\n",
    "for i in range(18):\n",
    "    if i not in x:\n",
    "        word = reviews[i].split(' ', 1)\n",
    "        testReviews = np.append(testReviews, word[1])\n",
    "        testReviewsAns = np.append(testReviewsAns, word[0])\n",
    "#print(posC)\n",
    "#print(negC)"
   ]
  },
  {
   "cell_type": "markdown",
   "metadata": {},
   "source": [
    "Now that we have them seperated we need to create a collection of words so that we can find the conditional probabilities. So let us have a list of the words and then their respective frequency - this will make it easy to add words should neither category contain them later on."
   ]
  },
  {
   "cell_type": "code",
   "execution_count": 11,
   "metadata": {},
   "outputs": [
    {
     "name": "stdout",
     "output_type": "stream",
     "text": [
      "[('we', 1), ('had', 1), ('a', 3), ('lovely', 3), ('meal', 1), ('my', 2), ('food', 5), ('tasted', 2), ('great', 4), ('i', 2), ('really', 1), ('enjoyed', 2), ('what', 1), ('restaurant', 5), ('the', 9), ('service', 3), ('was', 2), ('experience', 1), ('at', 1), ('and', 1), ('this', 2), ('is', 3), ('terrible', 1), ('avoid', 1), ('awful', 1)]\n",
      "['we', 'had', 'a', 'lovely', 'meal', 'my', 'food', 'tasted', 'great', 'i', 'really', 'enjoyed', 'what', 'restaurant', 'the', 'service', 'was', 'experience', 'at', 'and', 'this', 'is']\n",
      "['we', 'had', 'a', 'lovely', 'meal', 'my', 'food', 'tasted', 'great', 'i', 'really', 'enjoyed', 'what', 'restaurant', 'the', 'service', 'was', 'experience', 'at', 'and', 'this', 'is', 'terrible', 'avoid', 'awful']\n",
      "['the', 'service', 'is', 'terrible', 'avoid', 'this', 'restaurant', 'food', 'tasted', 'awful']\n"
     ]
    }
   ],
   "source": [
    "allC = posC + negC\n",
    "itemsAll = list(allC.items())\n",
    "wordsAll, numberAll = [list(c) for c in zip(*itemsAll)]\n",
    "itemsNeg = list(negC.items())\n",
    "wordsNeg, numberNeg = [list(c) for c in zip(*itemsNeg)]\n",
    "itemsPos = list(posC.items())\n",
    "wordsPos, numberPos = [list(c) for c in zip(*itemsPos)]\n",
    "print(itemsAll)\n",
    "print(wordsPos)\n",
    "#print(numberPos)\n",
    "print(wordsAll)\n",
    "#print(numberAll)\n",
    "print(wordsNeg)\n",
    "#print(numberNeg)\n",
    "#print(itemsNeg)\n",
    "#print(itemsPos)"
   ]
  },
  {
   "cell_type": "markdown",
   "metadata": {},
   "source": [
    "Calculate the probabilities of each probPos and probNeg. Could easily be done in one for loop. So if want to improve then just do it in one for loop instead. This should conclude the training portion since we have the required probabilities. I chose to do this function here so that we can use it in the question that does not do laplacian smoothing. It can be used easily then.\n",
    "If we were going to select a piece of data that would confuse it then all we need to do is from the random set of reviews use the set function and then use the disjoint of the random review to check if it is not contained - since any element part of the random review that our model has not seen would give a 0 probability for both p(1) and p(-1) for the reviews actual value."
   ]
  },
  {
   "cell_type": "code",
   "execution_count": 12,
   "metadata": {},
   "outputs": [
    {
     "name": "stdout",
     "output_type": "stream",
     "text": [
      "[1.0, 1.0, 1.0, 1.0, 1.0, 1.0, 0.8, 0.5, 1.0, 1.0, 1.0, 1.0, 1.0, 0.8, 0.7777777777777778, 0.6666666666666666, 1.0, 1.0, 1.0, 1.0, 0.5, 0.6666666666666666, 0, 0, 0]\n",
      "[0, 0, 0, 0, 0, 0, 0.2, 0.5, 0, 0, 0, 0, 0, 0.2, 0.2222222222222222, 0.3333333333333333, 0, 0, 0, 0, 0.5, 0.3333333333333333, 1.0, 1.0, 1.0]\n"
     ]
    }
   ],
   "source": [
    "probPos = list()\n",
    "probNeg = list()\n",
    "size = len(wordsAll)\n",
    "for i in range(size):\n",
    "    try:\n",
    "        index = wordsPos.index(wordsAll[i])\n",
    "        if index >= 0:\n",
    "            probPos.append(numberPos[index]/numberAll[i])\n",
    "    except:\n",
    "        probPos.append(0)\n",
    "for i in range(size):\n",
    "    try:\n",
    "        index = wordsNeg.index(wordsAll[i])\n",
    "        if index >= 0:\n",
    "            probNeg.append(numberNeg[index]/numberAll[i])\n",
    "    except:\n",
    "        probNeg.append(0)\n",
    "\n",
    "        \n",
    "print(probPos)\n",
    "print(probNeg)"
   ]
  },
  {
   "cell_type": "markdown",
   "metadata": {},
   "source": [
    "                                                                        ##CURENTLY NOT WORKING##\n",
    "\n",
    "Now we need to take a sentence and calculate its most likely category, something is wrong here, definitely check to see what it is however feel free to check to see if the rest is working if you think I might have made a mistake. I tried to do a laplacian smoothing here where i checked to see if the word was contained in all before seen words and then to add an instance to each. It might be easier in this scenario to do a 'on the fly' check of each word, its index, number of times it occurs (since the list zip is in order) then we can always readily update however this will lead to slower computation speeds since we will be calculating that probability always. It might be easier for us though. Do what you feel would be easier or faster to complete the lab."
   ]
  },
  {
   "cell_type": "code",
   "execution_count": null,
   "metadata": {},
   "outputs": [],
   "source": [
    "def calcLikely(review, probPos, probNeg, wordsAll, wordsNeg, wordsPos, numberNeg, numberPos, numberAll, numP, numN):\n",
    "   # print(review)\n",
    "    temp1 = counter_text(review)\n",
    "    temp2 = list(temp1.items())\n",
    "   # print(temp2)\n",
    "    testAll = collections.Counter(temp2)\n",
    "  #  print(testAll)\n",
    "    reviewWords, reviewNumbers = [list(c) for c in zip(*testAll)]\n",
    "   # print(reviewWords)\n",
    "    reviewLength = len(reviewWords)\n",
    "    tempPos = float(1)\n",
    "    tempNeg = float(1)\n",
    "    for i in range(reviewLength):\n",
    "        tempWord = reviewWords[i]\n",
    "        print(i)\n",
    "        print(tempPos)\n",
    "        print(tempNeg)\n",
    "        if tempWord in wordsAll:\n",
    "            \n",
    "            if tempWord in wordsNeg:\n",
    "                index1 = wordsNeg.index(reviewWords[i])\n",
    "                index2 = wordsAll.index(reviewWords[i])\n",
    "                tempNeg = tempNeg * (numberNeg[index1]/numberAll[index2])\n",
    "                                     \n",
    "            if tempWord not in wordsNeg:\n",
    "                                     \n",
    "                index1 = wordsAll.index(reviewWords[i])\n",
    "                tempNeg = tempNeg * (1 - probNeg[index1])\n",
    "                                     \n",
    "            if tempWord in wordsPos:\n",
    "                index1 = wordsPos.index(reviewWords[i])\n",
    "                index2 = wordsAll.index(reviewWords[i])\n",
    "                tempPos = tempPos * (numberPos[index1]/numberAll[index2])\n",
    "                                     \n",
    "            if tempWord not in wordsPos:\n",
    "                index1 = wordsAll.index(reviewWords[i])\n",
    "                tempPos = tempPos * (1 - probPos[index1])\n",
    "                \n",
    "        else:\n",
    "            wordsAll.append(reviewWords[i])\n",
    "            wordsNeg.append(reviewWords[i])\n",
    "            wordsPos.append(reviewWords[i])\n",
    "            numberAll.append(1)\n",
    "            numberNeg.append(1)\n",
    "            numberPos.append(1)\n",
    "            \n",
    "    print(tempPos)\n",
    "    print(tempNeg)\n",
    "    tot = numP + numN\n",
    "   #pos = float((tempPos*(numP/tot))/(tempPos*(numP/tot)+ tempNeg(numN/tot)))\n",
    "   # neg = float((tempNeg*(numN/tot))/(tempNeg*(numN/tot)+ tempPos(numP/tot)))    \n",
    "    propPos = numP/tot\n",
    "    propNeg = numN/tot\n",
    "    posNumer = tempPos * propPos\n",
    "    negNum = tempNeg * propNeg\n",
    "    posDenom = negNum + posNumer\n",
    "    pos = posNumer/posDenom\n",
    "    neg = 1 - pos\n",
    "    \n",
    "    \n",
    "    probability = [pos, neg]\n",
    "    return(probability)"
   ]
  },
  {
   "cell_type": "markdown",
   "metadata": {},
   "source": [
    "Just a quick run through of all the random reviews so that we can calculate the probability of each as required. Shows the probability of each and then what the actual value was."
   ]
  },
  {
   "cell_type": "code",
   "execution_count": null,
   "metadata": {},
   "outputs": [],
   "source": [
    "testReviewsSize = len(testReviews)\n",
    "numberOfPositives = len(randomPositives)\n",
    "numberOfNegatives = len(randomNegatives)\n",
    "#print(numberOfPositives)\n",
    "#print(numberOfNegatives)\n",
    "for i in range(testReviewsSize):\n",
    "    probabilities = np.array(calcLikely(testReviews[i], probPos, probNeg, wordsAll, wordsNeg, wordsPos, numberNeg, numberPos, numberAll, numberOfPositives, numberOfNegatives))\n",
    "    print(\"probability of 1 is \" + str(probabilities[0]))\n",
    "    print(\"probability of -1 is \" + str(probabilities[1]))\n",
    "    print(\"Answer is actually \" + str(testReviewsAns[i]))\n",
    "    #print(np.argmax(probabilities))\n",
    "    \n",
    "print(\"finished\")"
   ]
  }
 ],
 "metadata": {
  "kernelspec": {
   "display_name": "Python 3",
   "language": "python",
   "name": "python3"
  },
  "language_info": {
   "codemirror_mode": {
    "name": "ipython",
    "version": 3
   },
   "file_extension": ".py",
   "mimetype": "text/x-python",
   "name": "python",
   "nbconvert_exporter": "python",
   "pygments_lexer": "ipython3",
   "version": "3.7.1"
  }
 },
 "nbformat": 4,
 "nbformat_minor": 4
}
