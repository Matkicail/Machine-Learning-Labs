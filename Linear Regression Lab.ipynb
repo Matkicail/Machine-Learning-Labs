{
 "cells": [
  {
   "cell_type": "code",
   "execution_count": 43,
   "metadata": {},
   "outputs": [],
   "source": [
    "import numpy as np\n",
    "import random\n",
    "import matplotlib.pyplot as plt"
   ]
  },
  {
   "cell_type": "code",
   "execution_count": null,
   "metadata": {},
   "outputs": [],
   "source": [
    "#Chloe Smith (1877342)\n",
    "#Matthew Kruger (1669326)\n",
    "#Philani Mpofu (1848751)\n",
    "#Jesse Bristow (1875955)"
   ]
  },
  {
   "cell_type": "code",
   "execution_count": 44,
   "metadata": {},
   "outputs": [
    {
     "name": "stdout",
     "output_type": "stream",
     "text": [
      "[0.03985138 0.92110833 0.52424232]\n"
     ]
    },
    {
     "data": {
      "image/png": "[encoded data removed]",
      "text/plain": [
       "<Figure size 432x288 with 1 Axes>"
      ]
     },
     "metadata": {
      "needs_background": "light"
     },
     "output_type": "display_data"
    }
   ],
   "source": [
    "#sample 150 x-values from normal dist. with mean of 0, std dev of 10\n",
    "x = np.random.normal(0, 10, 150)\n",
    "\n",
    "#construct design matrix\n",
    "X = np.empty((150, 3))\n",
    "\n",
    "for i in range(150):\n",
    "    X[i][0] = 1\n",
    "    X[i][1] = x[i]\n",
    "    X[i][2] = x[i]**2\n",
    "    \n",
    "#sample values for theta0, theta1, theta2 from uniform dist. between 0 and 1\n",
    "theta = np.random.uniform(0, 1, 3)\n",
    "\n",
    "#create y-values from x-values and theta values\n",
    "y = np.empty(150)\n",
    "for i in range(150):\n",
    "    y[i] = theta[0] + (theta[1] * X[i][1]) + (theta[2] * X[i][2])\n",
    "    \n",
    "#insert 10% noise into y-values\n",
    "for i in range(15):\n",
    "    index = random.randint(0, 149)\n",
    "    y[index] = np.random.normal(0, 8, 1)\n",
    "    \n",
    "#plot x- and y-values in scatter plot\n",
    "plt.plot(x, y, 'o')\n",
    "\n",
    "#print true theta values for comparison\n",
    "print(theta)"
   ]
  },
  {
   "cell_type": "code",
   "execution_count": 45,
   "metadata": {},
   "outputs": [],
   "source": [
    "#split data into training, validation and test datasets\n",
    "#80% training data, 10% validation, 10% testing\n",
    "trainingX = x[:120]\n",
    "trainingY = y[:120]\n",
    "validX = x[120:135]\n",
    "validY = y[120:135]\n",
    "testX = x[135:150]\n",
    "testY = y[135:150]"
   ]
  },
  {
   "cell_type": "code",
   "execution_count": 48,
   "metadata": {},
   "outputs": [
    {
     "name": "stdout",
     "output_type": "stream",
     "text": [
      "[-3.98838891  0.66646823  0.51041877]\n"
     ]
    },
    {
     "data": {
      "text/plain": [
       "[<matplotlib.lines.Line2D at 0x1f36d7b6828>]"
      ]
     },
     "execution_count": 48,
     "metadata": {},
     "output_type": "execute_result"
    },
    {
     "data": {
      "image/png": "[encoded data removed]",
      "text/plain": [
       "<Figure size 432x288 with 1 Axes>"
      ]
     },
     "metadata": {
      "needs_background": "light"
     },
     "output_type": "display_data"
    }
   ],
   "source": [
    "#find theta solution from training data\n",
    "tX = X[:120]\n",
    "thetaSolution = np.dot(np.linalg.pinv(tX), trainingY)\n",
    "print(thetaSolution)\n",
    "\n",
    "#plot graph given by solution\n",
    "xSorted = np.sort(trainingX, axis=None)\n",
    "ySolution = thetaSolution[0] + (thetaSolution[1] * xSorted) + (thetaSolution[2] * xSorted**2)\n",
    "plt.plot(xSorted, ySolution)"
   ]
  },
  {
   "cell_type": "code",
   "execution_count": null,
   "metadata": {},
   "outputs": [],
   "source": []
  }
 ],
 "metadata": {
  "kernelspec": {
   "display_name": "Python 3",
   "language": "python",
   "name": "python3"
  },
  "language_info": {
   "codemirror_mode": {
    "name": "ipython",
    "version": 3
   },
   "file_extension": ".py",
   "mimetype": "text/x-python",
   "name": "python",
   "nbconvert_exporter": "python",
   "pygments_lexer": "ipython3",
   "version": "3.7.1"
  }
 },
 "nbformat": 4,
 "nbformat_minor": 2
}
