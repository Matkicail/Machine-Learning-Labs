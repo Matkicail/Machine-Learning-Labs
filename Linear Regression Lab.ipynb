{
 "cells": [
  {
   "cell_type": "code",
   "execution_count": 8,
   "metadata": {},
   "outputs": [],
   "source": [
    "import numpy as np\n",
    "import random\n",
    "import matplotlib.pyplot as plt"
   ]
  },
  {
   "cell_type": "code",
   "execution_count": 9,
   "metadata": {},
   "outputs": [],
   "source": [
    "#Chloe Smith (1877342)\n",
    "#Matthew Kruger (1669326)\n",
    "#Philani Mpofu (1848751)\n",
    "#Jesse Bristow (1875955)"
   ]
  },
  {
   "cell_type": "code",
   "execution_count": 10,
   "metadata": {},
   "outputs": [
    {
     "name": "stdout",
     "output_type": "stream",
     "text": [
      "[0.71369477 0.15467024 0.90412575]\n"
     ]
    },
    {
     "data": {
      "image/png": "[encoded data removed]",
      "text/plain": [
       "<Figure size 432x288 with 1 Axes>"
      ]
     },
     "metadata": {
      "needs_background": "light"
     },
     "output_type": "display_data"
    }
   ],
   "source": [
    "#sample 150 x-values from normal dist. with mean of 0, std dev of 10\n",
    "x = np.random.normal(0, 10, 150)\n",
    "\n",
    "#construct design matrix\n",
    "X = np.empty((150, 3))\n",
    "\n",
    "for i in range(150):\n",
    "    X[i][0] = 1\n",
    "    X[i][1] = x[i]\n",
    "    X[i][2] = x[i]**2\n",
    "    \n",
    "#sample values for theta0, theta1, theta2 from uniform dist. between 0 and 1\n",
    "theta = np.random.uniform(0, 1, 3)\n",
    "\n",
    "#create y-values from x-values and theta values\n",
    "y = np.empty(150)\n",
    "for i in range(150):\n",
    "    y[i] = theta[0] + (theta[1] * X[i][1]) + (theta[2] * X[i][2])\n",
    "    \n",
    "#insert 10% noise into y-values\n",
    "for i in range(15):\n",
    "    index = random.randint(0, 149)\n",
    "    y[index] = np.random.normal(0, 8, 1)\n",
    "    \n",
    "#plot x- and y-values in scatter plot\n",
    "plt.plot(x, y, 'o')\n",
    "\n",
    "#print true theta values for comparison\n",
    "print(theta)"
   ]
  },
  {
   "cell_type": "code",
   "execution_count": 11,
   "metadata": {},
   "outputs": [],
   "source": [
    "#split data into training, validation and test datasets\n",
    "#80% training data, 10% validation, 10% testing\n",
    "trainingX = x[:120]\n",
    "trainingY = y[:120]\n",
    "validX = x[120:135]\n",
    "validY = y[120:135]\n",
    "testX = x[135:150]\n",
    "testY = y[135:150]"
   ]
  },
  {
   "cell_type": "code",
   "execution_count": 12,
   "metadata": {},
   "outputs": [
    {
     "name": "stdout",
     "output_type": "stream",
     "text": [
      "[[ 8.19453314e-03  2.20588463e-01  4.08135075e-01 -2.82489438e-02\n",
      "   8.71986078e-02  2.33969314e-01  6.65309814e-01  2.28315876e-01\n",
      "   6.51251529e-02  6.76401748e-01  2.62962517e-01  3.55169970e-01\n",
      "   3.49532092e-01  2.52407549e-01  4.26841926e-02  1.60659749e-01\n",
      "   6.30179408e-02  1.95591880e-01  7.55332950e-01  2.37234367e-02\n",
      "  -2.53347334e-02  2.42558465e-01 -5.74833733e-02  5.57098355e-02\n",
      "   1.01162637e+00  1.05440134e-01  7.17987625e-01  5.22555815e-01\n",
      "   3.22378784e-01  5.99294537e-01  8.48471430e-03  4.19303263e-01\n",
      "   2.32339315e-02  1.22234707e-01  5.45677787e-01  3.69970548e-01\n",
      "   1.64482344e-01  1.01625404e+00  8.02833128e-01  6.63553539e-01\n",
      "   3.73624363e-01  6.77787006e-01  1.37957614e-01  2.98056476e-01\n",
      "   4.35509103e-01  1.06743812e-01 -1.14504789e+00  1.92982945e-02\n",
      "   3.33738262e-01  2.66188495e-01  1.64651335e-01  1.52582713e-01\n",
      "   6.70935412e-01  3.10436950e-02  4.55247720e-01  3.06159325e-02\n",
      "  -4.43014920e+00 -1.20952980e-01  9.33275504e-01  4.99871686e-01\n",
      "  -6.01455947e+00  5.93252764e-01  8.72376211e-01  6.20096652e-01\n",
      "   5.34818620e-01  9.27183181e-02 -1.36252173e-01  7.21584079e-02\n",
      "   7.31002353e-01  9.26312759e-02  1.01404935e+00  2.50617176e-01\n",
      "   7.08662212e-01  5.31096292e-01  7.89012403e-02  4.97706139e-02\n",
      "   6.95972439e-02  1.84915687e-02  1.21273589e-01  2.94081880e-01\n",
      "   1.01500020e+00  4.49619359e-01  2.77575494e-01  7.48574862e-01\n",
      "   5.39603421e-02  4.70335164e-01  2.09219058e-01  5.95554333e-01\n",
      "   7.30976995e-01  2.86831531e-02  3.13910075e-01  9.02730601e-01\n",
      "  -1.02052747e+00  6.88180669e-01  2.38939724e-01  7.39099015e-01\n",
      "   9.99575980e-01  1.32577622e-01 -2.23453984e+00  9.96169249e-01\n",
      "   1.09514003e-01  2.57385467e-02  9.94712240e-03  8.29895362e-03\n",
      "   5.69569077e-03  8.87607167e-03  5.83693555e-01  6.99790022e-01\n",
      "   2.47190025e-01  2.80419482e-01 -2.61284559e+01  1.30129252e-01\n",
      "   8.74957111e-01  5.92162624e-01  1.64488917e-01  1.61234624e-02\n",
      "   4.84472831e-01  6.09927601e-01  4.02365242e-01  4.12755527e-01]\n",
      " [ 4.47108161e-05  9.22341157e-03 -2.84436425e-02 -1.48487764e-02\n",
      "  -1.70321826e-03 -9.90058765e-03 -9.34897200e-02  9.71276402e-03\n",
      "  -1.43143790e-03 -9.92687380e-02  1.20244785e-02  1.91198304e-02\n",
      "  -2.09305621e-02 -1.13673899e-02  8.39820816e-04  5.75852259e-03\n",
      "   1.47546652e-03 -7.17052402e-03  7.04239884e-02 -1.20154104e-04\n",
      "  -1.09347830e-03  1.06398091e-02  8.96099086e-03 -7.47505781e-04\n",
      "   2.01980920e-01  3.10959759e-03  6.36052611e-02  3.58082524e-02\n",
      "  -1.79240604e-02 -2.95502327e-01  3.25684577e-05 -3.76441618e-01\n",
      "  -1.13725984e-04  6.95461419e-03  3.85571444e-02  2.03895265e-02\n",
      "   9.41078575e-03  1.86909412e-01  8.01325714e-02 -9.26323577e-02\n",
      "   2.07087175e-02 -1.00040151e-01  4.60338869e-03  1.45620831e-02\n",
      "  -3.25018609e-02  3.16567382e-03  6.00824673e-01  1.46291106e-04\n",
      "  -4.08182884e-01 -1.25320295e-02  5.97078387e-03 -4.60903492e-03\n",
      "   5.58337511e-02  5.28218103e-04  2.84566610e-02 -2.21808716e-04\n",
      "  -1.38448157e+00  1.51400894e-03  1.17078871e-01  3.32259452e-02\n",
      "   9.70639325e-01 -6.62705063e-02  2.83332698e-01 -7.49088543e-02\n",
      "  -5.11250196e-02 -1.90164401e-03 -1.45074436e-03 -1.20847547e-03\n",
      "  -1.64348475e-01 -1.89844592e-03  1.73186950e-01  1.11787363e-02\n",
      "  -1.21904563e-01 -5.02890660e-02  2.04211035e-03  3.54011693e-03\n",
      "  -1.13107634e-03 -1.92812362e-02  3.81255514e-03 -1.50754461e-02\n",
      "   1.93909804e-01  2.78830198e-02  1.30570967e-02  6.91420210e-02\n",
      "   1.17905714e-03 -3.82616031e-02 -8.09099180e-03  4.49205028e-02\n",
      "  -1.69057979e-01 -1.91256071e-04 -1.70420587e-02  2.71920112e-01\n",
      "  -7.63558693e-01 -2.36545324e-01 -1.02858586e-02  6.73815140e-02\n",
      "   2.17448075e-01 -3.59288670e-03  7.03559126e-01  2.20667726e-01\n",
      "   3.28591835e-03  4.00865714e-04  8.49825030e-05  5.03658946e-05\n",
      "  -9.01080920e-04  6.48617260e-05 -6.34911899e-02  6.05000237e-02\n",
      "  -4.37837241e-01  1.32620451e-02  1.76263517e+00  4.22605504e-03\n",
      "   9.79867051e-02  4.44678277e-02  5.96209420e-03 -3.30317305e-05\n",
      "   3.15347971e-02 -7.14770334e-02 -2.76359001e-02  2.42728563e-02]\n",
      " [-2.49789058e-05 -6.61684277e-04 -3.13139844e-04  9.46699474e-04\n",
      "  -2.22008158e-04 -4.27779431e-04  1.62918365e-03 -6.82291809e-04\n",
      "  -1.61431742e-04  1.85937225e-03 -7.71694423e-04 -9.82593003e-04\n",
      "  -4.07549887e-04 -4.36897406e-04 -1.34456907e-04 -4.94390227e-04\n",
      "  -1.98590602e-04 -3.95849398e-04 -1.09596418e-03 -6.83632819e-05\n",
      "   7.54587309e-05 -7.19648411e-04 -1.83429638e-04 -1.50496331e-04\n",
      "   3.89018991e-03 -3.30040968e-04 -1.17680037e-03 -1.23329046e-03\n",
      "  -4.30108808e-04  1.22150244e-02 -2.56865428e-05  1.73851997e-02\n",
      "  -6.70281871e-05 -3.29059613e-04 -1.25045666e-03 -1.01229298e-03\n",
      "  -4.41461042e-04  3.04611013e-03 -9.42560525e-04  1.59561035e-03\n",
      "  -1.01943026e-03  1.89059818e-03 -4.27882632e-04 -8.56887743e-04\n",
      "  -2.44024782e-04 -3.34017111e-04  4.51266901e-02 -5.93008201e-05\n",
      "   1.95102343e-02 -4.40905054e-04 -5.05917532e-04 -3.40869535e-04\n",
      "  -1.23954557e-03 -9.75555874e-05 -1.15681374e-03 -8.69023003e-05\n",
      "   9.99011337e-02  3.29320921e-04 -3.30339342e-07 -1.21171419e-03\n",
      "   1.12393358e-01  6.46342778e-04  9.45064844e-03  9.38254799e-04\n",
      "   1.89810200e-04 -2.33603095e-04  4.22750899e-04 -1.88989312e-04\n",
      "   4.83081657e-03 -2.33422437e-04  2.33209503e-03 -7.40415707e-04\n",
      "   2.82024218e-03  1.66974301e-04 -2.48239725e-04 -1.13287598e-04\n",
      "  -1.83159381e-04  9.06682466e-04 -3.78038675e-04 -4.41229258e-04\n",
      "   3.43050169e-03 -1.14880001e-03 -8.07854123e-04 -1.11291579e-03\n",
      "  -1.70089317e-04 -1.28364921e-04 -4.09118244e-04 -1.26901525e-03\n",
      "   5.06803795e-03 -8.17520355e-05 -4.34709128e-04  8.57324401e-03\n",
      "   4.60102829e-02  8.71609510e-03 -4.30650078e-04 -1.13488845e-03\n",
      "   4.81941337e-03 -3.08862822e-04  6.10568029e-02  5.02067621e-03\n",
      "  -3.42451974e-04 -8.07209633e-05 -3.06665460e-05 -2.53588213e-05\n",
      "   1.88166149e-05 -2.72483655e-05  5.56960897e-04 -1.20576594e-03\n",
      "   2.15394330e-02 -8.14779629e-04  3.60860130e-01 -4.04592676e-04\n",
      "  -5.53709664e-04 -1.26861983e-03 -5.05449487e-04 -4.73500004e-05\n",
      "  -1.19456316e-03  8.19830755e-04 -3.25517626e-04 -1.09077269e-03]]\n"
     ]
    },
    {
     "data": {
      "text/plain": [
       "[<matplotlib.lines.Line2D at 0x2000fc104a8>]"
      ]
     },
     "execution_count": 12,
     "metadata": {},
     "output_type": "execute_result"
    },
    {
     "data": {
      "image/png": "[encoded data removed]",
      "text/plain": [
       "<Figure size 432x288 with 1 Axes>"
      ]
     },
     "metadata": {
      "needs_background": "light"
     },
     "output_type": "display_data"
    }
   ],
   "source": [
    "#find theta solution from training data\n",
    "tX = X[:120]\n",
    "thetaSolution = np.multiply(np.linalg.pinv(tX), trainingY)\n",
    "print(thetaSolution)\n",
    "\n",
    "#plot graph given by solution\n",
    "xSorted = np.sort(trainingX, axis=None)\n",
    "ySolution = thetaSolution[0] + (thetaSolution[1] * xSorted) + (thetaSolution[2] * xSorted**2)\n",
    "plt.plot(xSorted, ySolution)"
   ]
  },
  {
   "cell_type": "markdown",
   "metadata": {},
   "source": [
    "The learned parameter values are quite far from the true values, but generate a reasonably similar curve to the true curve."
   ]
  },
  {
   "cell_type": "code",
   "execution_count": 13,
   "metadata": {},
   "outputs": [
    {
     "name": "stdout",
     "output_type": "stream",
     "text": [
      "103931.47135541053\n"
     ]
    }
   ],
   "source": [
    "#compute training error for model\n",
    "trainingError = 0\n",
    "\n",
    "def solutionY(x, theta0, theta1, theta2):\n",
    "    size = len(x)\n",
    "    y = np.empty(size)\n",
    "    \n",
    "    for i in range(size):\n",
    "        y[i] = theta0 + (theta1 * x[i]) + (theta2 * (x[i]**2))\n",
    "        \n",
    "    return y\n",
    "\n",
    "solY = solutionY(trainingX, theta[0], theta[1], theta[2])\n",
    "\n",
    "for i in range(120):\n",
    "    trainingError += (trainingY[i] - solY[i])**2\n",
    "    \n",
    "trainingError = trainingError*0.5\n",
    "print(trainingError)"
   ]
  },
  {
   "cell_type": "markdown",
   "metadata": {},
   "source": [
    "Training error from this model is very high."
   ]
  },
  {
   "cell_type": "code",
   "execution_count": 15,
   "metadata": {},
   "outputs": [
    {
     "name": "stdout",
     "output_type": "stream",
     "text": [
      "1663.5906738321748\n"
     ]
    }
   ],
   "source": [
    "#compute validation error for model\n",
    "validationError = 0\n",
    "\n",
    "solY = solutionY(validX, theta[0], theta[1], theta[2])\n",
    "\n",
    "for i in range(15):\n",
    "    validationError += (validY[i] - solY[i])**2\n",
    "    \n",
    "validationError = validationError*0.5\n",
    "print(validationError)"
   ]
  },
  {
   "cell_type": "markdown",
   "metadata": {},
   "source": [
    "Validation error from this model is also high."
   ]
  },
  {
   "cell_type": "code",
   "execution_count": 16,
   "metadata": {},
   "outputs": [
    {
     "name": "stdout",
     "output_type": "stream",
     "text": [
      "[0 1 1]\n"
     ]
    }
   ],
   "source": [
    "#using Gradient Descent instead to train model\n",
    "#choose initial theta corresponding to y = x + x**2\n",
    "theta = np.array([0,1,1])\n",
    "\n",
    "#choose learning rate and tolerance for convergence\n",
    "tolerance = 0.05\n",
    "alpha = 0.2\n",
    "\n",
    "#check that max difference between theta[i] values <= tolerance\n",
    "diff = np.empty(3)\n",
    "\n",
    "while True:\n",
    "    thetaTemp = np.empty(3)\n",
    "    \n",
    "    thetaTemp = theta - alpha\n",
    "    \n",
    "    for i in range(3):\n",
    "        diff[i] = (theta[i] - thetaDiff[i])**2\n",
    "    if (np.amax(diff) <= tolerance):\n",
    "        break"
   ]
  }
 ],
 "metadata": {
  "kernelspec": {
   "display_name": "Python 3",
   "language": "python",
   "name": "python3"
  },
  "language_info": {
   "codemirror_mode": {
    "name": "ipython",
    "version": 3
   },
   "file_extension": ".py",
   "mimetype": "text/x-python",
   "name": "python",
   "nbconvert_exporter": "python",
   "pygments_lexer": "ipython3",
   "version": "3.7.1"
  }
 },
 "nbformat": 4,
 "nbformat_minor": 2
}
