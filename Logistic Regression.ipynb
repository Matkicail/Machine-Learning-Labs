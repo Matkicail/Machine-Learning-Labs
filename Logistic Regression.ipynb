{
 "cells": [
  {
   "cell_type": "code",
   "execution_count": 4,
   "metadata": {},
   "outputs": [],
   "source": [
    "import numpy as np\n",
    "import random\n",
    "import math\n",
    "import matplotlib.pyplot as plt"
   ]
  },
  {
   "cell_type": "code",
   "execution_count": 5,
   "metadata": {},
   "outputs": [],
   "source": [
    "def f(x):\n",
    "    return np.array([fun(xi) for xi in x])"
   ]
  },
  {
   "cell_type": "code",
   "execution_count": 6,
   "metadata": {},
   "outputs": [],
   "source": [
    "def fun(x):\n",
    "    return (x**2)*math.sin(2*math.pi*x)+0.7\n",
    "    "
   ]
  },
  {
   "cell_type": "code",
   "execution_count": 7,
   "metadata": {},
   "outputs": [],
   "source": [
    "class uniRandom:\n",
    "    \n",
    "    \n",
    "    def __init__(self, size):\n",
    "        self.size = size\n",
    "        self.dataPoints = np.empty(shape = (100,2))\n",
    "        self.labels = np.empty(100)\n",
    "        self.classOneX = np.empty(shape = (0,0))\n",
    "        self.classOneY = np.empty(shape = (0,0))\n",
    "        self.classZeroX = np.empty(shape = (0,0))\n",
    "        self.classZeroY = np.empty(shape = (0,0))\n",
    "        self.num0 = 0\n",
    "        for i in range(100):\n",
    "            self.dataPoints[i] = np.array([np.random.uniform(0,1), np.random.uniform(0,1)])\n",
    "            if fun(self.dataPoints[i][0]) > fun(self.dataPoints[i][1]):\n",
    "                self.labels[i] = 0\n",
    "                self.num0 += 1\n",
    "            else:\n",
    "                self.labels[i] = 1\n",
    "                \n",
    "    def assignClasses(self):\n",
    "        self.classOneX = np.empty(shape = (self.size - self.num0,2))\n",
    "        self.classOneY = np.empty(shape = (self.size - self.num0,2))\n",
    "        self.classZeroX = np.empty(shape = (self.num0,2))\n",
    "        self.classZeroY = np.empty(shape = (self.num0,2))\n",
    "        \n",
    "        counter0 = 0\n",
    "        counter1 = 0\n",
    "        for i in range(self.size):\n",
    "            values = np.array([fun(self.dataPoints[i][0]), fun(self.dataPoints[i][1])])\n",
    "            if(self.labels[i] == 0):\n",
    "                self.classZeroX[counter0] = self.dataPoints[i]\n",
    "                #print(self.dataPoints[i])\n",
    "                self.classZeroY[counter0] = values\n",
    "                counter0 += 1\n",
    "            else:\n",
    "                #print(self.dataPoints[i])\n",
    "                self.classOneX[counter1] = self.dataPoints[i]\n",
    "                self.classOneY[counter1] = values\n",
    "                counter1 += 1\n"
   ]
  },
  {
   "cell_type": "code",
   "execution_count": 8,
   "metadata": {},
   "outputs": [],
   "source": [
    "x = uniRandom(100)\n",
    "x.assignClasses()"
   ]
  },
  {
   "cell_type": "code",
   "execution_count": 9,
   "metadata": {},
   "outputs": [
    {
     "data": {
      "text/plain": [
       "<matplotlib.collections.PathCollection at 0x224b24ca1c8>"
      ]
     },
     "execution_count": 9,
     "metadata": {},
     "output_type": "execute_result"
    },
    {
     "data": {
      "image/png": "[encoded data removed]",
      "text/plain": [
       "<Figure size 432x288 with 1 Axes>"
      ]
     },
     "metadata": {
      "needs_background": "light"
     },
     "output_type": "display_data"
    }
   ],
   "source": [
    "plt.scatter(x.classZeroX[:,0], x.classZeroX[:,1], color = 'r')\n",
    "plt.scatter(x.classOneX[:,0], x.classOneX[:,1], color = 'g')"
   ]
  },
  {
   "cell_type": "code",
   "execution_count": 10,
   "metadata": {},
   "outputs": [],
   "source": [
    "def sigmoid(x):\n",
    "    return 1/(1+math.exp(-x))"
   ]
  },
  {
   "cell_type": "code",
   "execution_count": 11,
   "metadata": {},
   "outputs": [],
   "source": [
    "def array_for(x):\n",
    "    return np.array([sigmoid(xi) for xi in x])"
   ]
  },
  {
   "cell_type": "code",
   "execution_count": 55,
   "metadata": {},
   "outputs": [
    {
     "ename": "SyntaxError",
     "evalue": "EOF while scanning triple-quoted string literal (<ipython-input-55-634089508d42>, line 71)",
     "output_type": "error",
     "traceback": [
      "\u001b[1;36m  File \u001b[1;32m\"<ipython-input-55-634089508d42>\"\u001b[1;36m, line \u001b[1;32m71\u001b[0m\n\u001b[1;33m    pass\u001b[0m\n\u001b[1;37m        \n^\u001b[0m\n\u001b[1;31mSyntaxError\u001b[0m\u001b[1;31m:\u001b[0m EOF while scanning triple-quoted string literal\n"
     ]
    }
   ],
   "source": [
    "class network:\n",
    "    \n",
    "    #inner clas\n",
    "    class layers:#form as the mesh between two layers\n",
    "    \n",
    "            def __init__(self, vec):\n",
    "                self.weights = np.random.rand(vec[0],vec[1]) * 0.01\n",
    "                self.bias = np.random.rand(vec[1])\n",
    "                \n",
    "    class neurons: #forms a set of nodes in our network\n",
    "    \n",
    "        def __init__(self, x):\n",
    "            self.neurons = np.zeros(x)\n",
    "    \n",
    "        def len(self):\n",
    "            return len(self.neurons)\n",
    "    \n",
    "        def update(self, x):\n",
    "            self.neurons = x\n",
    "        \n",
    "        def getArray(self):\n",
    "            return self.neurons\n",
    "        \n",
    "    \n",
    "    def __init__(self, vec):\n",
    "        self.layers = []\n",
    "        #made up of layers with neurons\n",
    "        for i in range(len(vec) - 1): #build up until the layer before the final layer\n",
    "            self.layers.append(layers([vec[i], vec[i+1]]))\n",
    "        \n",
    "        self.neuronSet = []\n",
    "        for i in range(len(vec)):\n",
    "            self.neuronSet.append(neurons(vec[i])) #add the neurons for that specific layer, do this for each layer.\n",
    "        \n",
    "        #need some way to determine error, so here we have 2 classes therefore want to consider error the 'distance' from predicting the right class\n",
    "        #hence make target class have 1 - sigmoidAtEndNeuron and the class that it must not be \n",
    "        # 0 - sigmoidAtEndNeuron\n",
    "        #sum these two together to get the error\n",
    "        def errorCalculate(self, targetIndex): #this will be low when network is certain and high when it is uncertain \n",
    "            \n",
    "            '''\n",
    "            Note with regard to this function, please note that from my current understanding what you want to do is just for one given input example you want to target\n",
    "            what the classes should be and this will give you the error for that specific case, however you should note that this error is mainly just used to allow \n",
    "            for the use of descent https://pytorch.org/tutorials/beginner/blitz/autograd_tutorial.html \n",
    "            As another note these should be used in conjungtion with back propagation. I will attempt to discuss that there\n",
    "            '''\n",
    "            \n",
    "            indexEnd = len(self.neuronSet) - 1\n",
    "            totalError = 0\n",
    "            neurons = self.neuronSet[indexEnd].getArray()\n",
    "            for i in range(len(neurons)): #architecture note, depends on only having one possible class you want it to be in \n",
    "                if i == targetIndex:\n",
    "                    totalError = (1 - neurons[i])**2 + totalError #should be squared difference\n",
    "                else:\n",
    "                    totalError = neurons[i]**2 + totalError #since sigmoid cant be <0 and fact that we want classes we arent to be at 0 (so completely off)\n",
    "            \n",
    "            return totalError\n",
    "        \n",
    "        def forwardPropagate(self , outShape, data):\n",
    "            out = np.empty(shape = (outshape[0],outShape[1]))\n",
    "            size = len(data) #number of entries to go through\n",
    "            for i in range(size):\n",
    "                dataPoint = data[i]\n",
    "                for j in range(len(self.layers) - 1): #run over each layer except for the last one\n",
    "                    dataPoint = array_for(np.dot(dataPoint, self.layers[j].weights) + self.layers.bias[j])\n",
    "          \n",
    "            #could add some error calculation here\n",
    "            out[i:,] = dataPoint\n",
    "            \n",
    "        def backPropagateHidden(): #require gradient of steepest descent in a form\n",
    "            #start from the output and go back\n",
    "            pass\n",
    "        '''\n",
    "        With regards to influence, think about the weight and the functions that are used in the activation i.e say o represents our sigmoid \n",
    "        o(w0a0 + w1a1 + ... wnan + bk) so we have 3 choices of things to change and nudge in the right step, thse things had influence on our current node\n",
    "        so, the weights(represented with w), the previous neurons(a's) and finally our bias vector. Do not interact with the neurons as they are meant to be left,\n",
    "        so instead interact with the weights or bias (preferably the weights). Since the weights have influence. We dont just do this for the target neuron, say for example\n",
    "        class 0 or class 1 only, we do it for both of them (so in the case that the label was 1, we reduce the cost for the neuron representing label 1 i.e (1- guessedProb) **2\n",
    "        and then for label 0 we say (-guessedProb)**2 since it should have been minimised) we then find out the changes that should have been made to all the weights, say for example\n",
    "        w1 in the last layer, class 0 says it should increase by 0.18 and class 1 says it should decrease by 0.1 so we aggregate the changes they want,\n",
    "        0.18 - 0.1 gives us what it should have for w1 by their aggregate demands on the changes.\n",
    "        I recommend looking at 3Blue1Brown's video on this (forward propagation is contained in video 1, 2 explains cost w.r.t gradient of descent and 3 is backprop)\n",
    "        '''"
   ]
  },
  {
   "cell_type": "code",
   "execution_count": 54,
   "metadata": {},
   "outputs": [
    {
     "name": "stdout",
     "output_type": "stream",
     "text": [
      "(10, 5)\n",
      "(5,)\n",
      "10\n",
      "5\n"
     ]
    }
   ],
   "source": [
    "x = network([10,5])\n",
    "print(x.layers[0].weights.shape) \n",
    "print(x.layers[0].bias.shape)\n",
    "print(x.neuronSet[0].len()) # in this simple network, index 0 is the input neurons\n",
    "print(x.neuronSet[1].len()) # in this simple network, index 1 is the output neurons"
   ]
  },
  {
   "cell_type": "code",
   "execution_count": null,
   "metadata": {},
   "outputs": [],
   "source": []
  }
 ],
 "metadata": {
  "kernelspec": {
   "display_name": "Python 3",
   "language": "python",
   "name": "python3"
  },
  "language_info": {
   "codemirror_mode": {
    "name": "ipython",
    "version": 3
   },
   "file_extension": ".py",
   "mimetype": "text/x-python",
   "name": "python",
   "nbconvert_exporter": "python",
   "pygments_lexer": "ipython3",
   "version": "3.7.7"
  }
 },
 "nbformat": 4,
 "nbformat_minor": 4
}
