{
 "cells": [
  {
   "cell_type": "code",
   "execution_count": 125,
   "metadata": {},
   "outputs": [],
   "source": [
    "import random\n",
    "import numpy as np\n",
    "import pandas as pd\n",
    "import matplotlib\n",
    "import pylab"
   ]
  },
  {
   "cell_type": "markdown",
   "metadata": {},
   "source": [
    "Function to create a training set and a testing set matrix based off on the data passed throught to it"
   ]
  },
  {
   "cell_type": "code",
   "execution_count": 126,
   "metadata": {},
   "outputs": [],
   "source": [
    "def createSets(ones, x, xSquare, training):\n",
    "    onesTrain = np.empty(0)\n",
    "    onesTest = np.empty(0)\n",
    "    xTrain = np.empty(0)\n",
    "    xTest = np.empty(0)\n",
    "    xSTrain = np.empty(0)\n",
    "    xSTest = np.empty(0)\n",
    "    #Assuming we work only with 150 data values\n",
    "    for i in range(150):\n",
    "        #Training is the 80% data chosen to be used for training data\n",
    "        if i in training:\n",
    "            onesTrain = np.append(ones[i], onesTrain)\n",
    "            xTrain = np.append(x[i], xTrain)\n",
    "            xSTrain = np.append(xSquare[i], xSTrain)\n",
    "        else:\n",
    "            onesTest = np.append(ones[i], onesTest)\n",
    "            xTest = np.append(x[i], xTest)\n",
    "            xSTest = np.append(xSquare[i], xSTest)   \n",
    "            \n",
    "    matrixTrain = np.array([onesTrain , xTrain , xSTrain])\n",
    "    matrixTest = np.array([onesTest , xTest , xSTest])\n",
    "    \n",
    "    return(matrixTrain, matrixTest, xTrain, xTest)"
   ]
  },
  {
   "cell_type": "markdown",
   "metadata": {},
   "source": [
    "Seperate the training y data(actual output) and the testing y data."
   ]
  },
  {
   "cell_type": "code",
   "execution_count": 127,
   "metadata": {},
   "outputs": [],
   "source": [
    "def assignY(yValues, training):\n",
    "    yTrain = np.empty(0)\n",
    "    yTest = np.empty(0)\n",
    "    for i in range(150):\n",
    "        if i in training:\n",
    "            yTrain = np.append(yValues[i], yTrain)\n",
    "        else:\n",
    "            yTest = np.append(yValues[i], yTest)\n",
    "\n",
    "    return (yTrain, yTest)"
   ]
  },
  {
   "cell_type": "markdown",
   "metadata": {},
   "source": [
    "Create the random set of training data - 4a"
   ]
  },
  {
   "cell_type": "code",
   "execution_count": 128,
   "metadata": {},
   "outputs": [],
   "source": [
    "xValues = np.random.normal(0, 10, 150)\n",
    "ones = np.ones(150)\n",
    "x = np.empty(150)\n",
    "xSquare = np.empty(150)"
   ]
  },
  {
   "cell_type": "markdown",
   "metadata": {},
   "source": [
    "Create the design matrix later on but the data for it is created here as well as an easy visualisation\n",
    "Note that the createSets functions creates the two design matrices, could make 1 unified one but chose note to"
   ]
  },
  {
   "cell_type": "code",
   "execution_count": 129,
   "metadata": {},
   "outputs": [
    {
     "data": {
      "text/html": [
       "<div>\n",
       "<style scoped>\n",
       "    .dataframe tbody tr th:only-of-type {\n",
       "        vertical-align: middle;\n",
       "    }\n",
       "\n",
       "    .dataframe tbody tr th {\n",
       "        vertical-align: top;\n",
       "    }\n",
       "\n",
       "    .dataframe thead th {\n",
       "        text-align: right;\n",
       "    }\n",
       "</style>\n",
       "<table border=\"1\" class=\"dataframe\">\n",
       "  <thead>\n",
       "    <tr style=\"text-align: right;\">\n",
       "      <th></th>\n",
       "      <th>1</th>\n",
       "      <th>x</th>\n",
       "      <th>x^2</th>\n",
       "    </tr>\n",
       "  </thead>\n",
       "  <tbody>\n",
       "    <tr>\n",
       "      <td>0</td>\n",
       "      <td>1.0</td>\n",
       "      <td>1.846343</td>\n",
       "      <td>3.408984</td>\n",
       "    </tr>\n",
       "    <tr>\n",
       "      <td>1</td>\n",
       "      <td>1.0</td>\n",
       "      <td>3.454143</td>\n",
       "      <td>11.931103</td>\n",
       "    </tr>\n",
       "    <tr>\n",
       "      <td>2</td>\n",
       "      <td>1.0</td>\n",
       "      <td>-2.124364</td>\n",
       "      <td>4.512922</td>\n",
       "    </tr>\n",
       "    <tr>\n",
       "      <td>3</td>\n",
       "      <td>1.0</td>\n",
       "      <td>6.456764</td>\n",
       "      <td>41.689798</td>\n",
       "    </tr>\n",
       "    <tr>\n",
       "      <td>4</td>\n",
       "      <td>1.0</td>\n",
       "      <td>2.074962</td>\n",
       "      <td>4.305465</td>\n",
       "    </tr>\n",
       "    <tr>\n",
       "      <td>...</td>\n",
       "      <td>...</td>\n",
       "      <td>...</td>\n",
       "      <td>...</td>\n",
       "    </tr>\n",
       "    <tr>\n",
       "      <td>145</td>\n",
       "      <td>1.0</td>\n",
       "      <td>-9.031734</td>\n",
       "      <td>81.572225</td>\n",
       "    </tr>\n",
       "    <tr>\n",
       "      <td>146</td>\n",
       "      <td>1.0</td>\n",
       "      <td>-2.862812</td>\n",
       "      <td>8.195690</td>\n",
       "    </tr>\n",
       "    <tr>\n",
       "      <td>147</td>\n",
       "      <td>1.0</td>\n",
       "      <td>-3.402801</td>\n",
       "      <td>11.579057</td>\n",
       "    </tr>\n",
       "    <tr>\n",
       "      <td>148</td>\n",
       "      <td>1.0</td>\n",
       "      <td>-10.130092</td>\n",
       "      <td>102.618757</td>\n",
       "    </tr>\n",
       "    <tr>\n",
       "      <td>149</td>\n",
       "      <td>1.0</td>\n",
       "      <td>9.341302</td>\n",
       "      <td>87.259926</td>\n",
       "    </tr>\n",
       "  </tbody>\n",
       "</table>\n",
       "<p>150 rows × 3 columns</p>\n",
       "</div>"
      ],
      "text/plain": [
       "       1          x         x^2\n",
       "0    1.0   1.846343    3.408984\n",
       "1    1.0   3.454143   11.931103\n",
       "2    1.0  -2.124364    4.512922\n",
       "3    1.0   6.456764   41.689798\n",
       "4    1.0   2.074962    4.305465\n",
       "..   ...        ...         ...\n",
       "145  1.0  -9.031734   81.572225\n",
       "146  1.0  -2.862812    8.195690\n",
       "147  1.0  -3.402801   11.579057\n",
       "148  1.0 -10.130092  102.618757\n",
       "149  1.0   9.341302   87.259926\n",
       "\n",
       "[150 rows x 3 columns]"
      ]
     },
     "execution_count": 129,
     "metadata": {},
     "output_type": "execute_result"
    }
   ],
   "source": [
    "for i in range(150):\n",
    "    x[i] = xValues[i]\n",
    "    xSquare[i] = xValues[i]**2 #chose this, less accurate but faster\n",
    "\n",
    "#numbers = np.arange(0,149)\n",
    "data = pd.DataFrame(ones)\n",
    "data.columns = ['1']\n",
    "data['x'] = x\n",
    "data['x^2'] = xSquare\n",
    "data"
   ]
  },
  {
   "cell_type": "markdown",
   "metadata": {},
   "source": [
    "Arbritrary choice for thetas, if you'd like to test different ones in a range, do so - 4a iii"
   ]
  },
  {
   "cell_type": "code",
   "execution_count": 130,
   "metadata": {},
   "outputs": [
    {
     "name": "stdout",
     "output_type": "stream",
     "text": [
      "[1.30987464 2.23018416 2.68084159]\n"
     ]
    }
   ],
   "source": [
    "thetas = np.random.uniform(0,3,3)\n",
    "print(thetas)"
   ]
  },
  {
   "cell_type": "markdown",
   "metadata": {},
   "source": [
    "A lot is done here, the creation of the y values is done but at the same time noise is added since redesigned and worked back to here\n",
    "Chose to choose randomly which indices would have noise, then changed the value of the y at that point to the value of the noise generated at that point.\n",
    "Can easily increase the noise by changing the noise level which is just the number of elements that are noise elements\n",
    "\n",
    "Then plotted.\n",
    "Created a testing array of elements for testing - not necessary but can be used\n",
    "Also created the training data set at random using 80% of the data to train and then to test 20%"
   ]
  },
  {
   "cell_type": "code",
   "execution_count": 131,
   "metadata": {},
   "outputs": [
    {
     "data": {
      "image/png": "[encoded data removed]",
      "text/plain": [
       "<Figure size 432x288 with 1 Axes>"
      ]
     },
     "metadata": {
      "needs_background": "light"
     },
     "output_type": "display_data"
    }
   ],
   "source": [
    "yValues = np.empty(150)\n",
    "noiseLevel = 2 #How much noise data you'd like\n",
    "noiseIndices = np.array(random.sample(range(0,149),noiseLevel))\n",
    "noiseY = np.random.normal(0, 8, noiseLevel)\n",
    "j = 0\n",
    "for i in range(150):\n",
    "    if i not in noiseIndices:\n",
    "        yValues[i] = thetas[0]*ones[i] + thetas[1]*x[i] + thetas[2]*xSquare[i]\n",
    "    else:\n",
    "        yValues[i] = noiseY[j]\n",
    "        j = j + 1\n",
    "\n",
    "data['y'] = yValues\n",
    "#data\n",
    "matplotlib.pyplot.scatter(x,yValues)\n",
    "\n",
    "training = np.array(random.sample(range(0,149),int(0.8*150)))\n",
    "testing = np.empty(0)\n",
    "size = len(training)\n",
    "for i in range(size):\n",
    "    if i != training[i]:\n",
    "        testing = np.append(i,testing)\n",
    "        \n"
   ]
  },
  {
   "cell_type": "markdown",
   "metadata": {},
   "source": [
    "Create the training matrix and testing matrix given our, 1s, x, x squared and the training indices to be used.\n",
    "Also created the y training and y testing set"
   ]
  },
  {
   "cell_type": "code",
   "execution_count": 132,
   "metadata": {},
   "outputs": [],
   "source": [
    "matrixTrain, matrixTest, xTrain, xTest = createSets(ones, x, xSquare, training)\n",
    "yTrain, yTest = assignY(yValues, training)\n",
    "temp = np.linalg.pinv(matrixTrain)\n",
    "temp = np.multiply(temp, yTrain[:, None])\n"
   ]
  },
  {
   "cell_type": "markdown",
   "metadata": {},
   "source": [
    "If there is no noise, the guess is very accurate with small amount of error, as the number of error/noise elements are introduced to our training the theta error dramatically increases"
   ]
  },
  {
   "cell_type": "code",
   "execution_count": 133,
   "metadata": {},
   "outputs": [
    {
     "name": "stdout",
     "output_type": "stream",
     "text": [
      "[1.30987464 2.23018416 2.68084159]\n",
      "[-1.153316788200134, 2.4743498276891, 2.677511815687855]\n"
     ]
    }
   ],
   "source": [
    "thetaGuess = [sum(x) for x in zip(*temp)]\n",
    "print(thetas)\n",
    "print(thetaGuess)"
   ]
  },
  {
   "cell_type": "markdown",
   "metadata": {},
   "source": [
    "function for finding the training error"
   ]
  },
  {
   "cell_type": "code",
   "execution_count": 134,
   "metadata": {},
   "outputs": [],
   "source": [
    "def trainingError(yTraining, matrixTrain, thetasGuess):\n",
    "    \n",
    "    size = len(yTraining)\n",
    "    tot = float(0)\n",
    "    for i in range(size):\n",
    "        tot = tot + (yTraining[i] - (matrixTrain[0][i]*thetasGuess[0] + matrixTrain[1][i]*thetasGuess[1] + matrixTrain[2][i]*thetasGuess[2] ))**2\n",
    "\n",
    "    return tot*(0.5)"
   ]
  },
  {
   "cell_type": "code",
   "execution_count": 135,
   "metadata": {},
   "outputs": [
    {
     "name": "stdout",
     "output_type": "stream",
     "text": [
      "47329.541522696214\n"
     ]
    }
   ],
   "source": [
    "print(trainingError(yTrain,matrixTrain,thetaGuess))"
   ]
  },
  {
   "cell_type": "markdown",
   "metadata": {},
   "source": [
    "Have finished working here - GROUP  15/03/2020 - 22h20 - Matthew\n",
    "Ignore the plot below, need someone to do the Q4b - iv"
   ]
  },
  {
   "cell_type": "code",
   "execution_count": 136,
   "metadata": {},
   "outputs": [
    {
     "data": {
      "text/plain": [
       "<matplotlib.collections.PathCollection at 0x1ee07baa748>"
      ]
     },
     "execution_count": 136,
     "metadata": {},
     "output_type": "execute_result"
    },
    {
     "data": {
      "image/png": "[encoded data removed]",
      "text/plain": [
       "<Figure size 432x288 with 1 Axes>"
      ]
     },
     "metadata": {
      "needs_background": "light"
     },
     "output_type": "display_data"
    }
   ],
   "source": [
    "t = matrixTrain[:1,].argsort()\n",
    "matplotlib.pyplot.scatter(xTrain,yTrain)"
   ]
  },
  {
   "cell_type": "code",
   "execution_count": null,
   "metadata": {},
   "outputs": [],
   "source": []
  }
 ],
 "metadata": {
  "kernelspec": {
   "display_name": "Python 3",
   "language": "python",
   "name": "python3"
  },
  "language_info": {
   "codemirror_mode": {
    "name": "ipython",
    "version": 3
   },
   "file_extension": ".py",
   "mimetype": "text/x-python",
   "name": "python",
   "nbconvert_exporter": "python",
   "pygments_lexer": "ipython3",
   "version": "3.7.1"
  }
 },
 "nbformat": 4,
 "nbformat_minor": 4
}
