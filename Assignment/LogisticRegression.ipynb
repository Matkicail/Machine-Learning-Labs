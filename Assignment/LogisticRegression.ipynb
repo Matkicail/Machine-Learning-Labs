{
 "cells": [
  {
   "cell_type": "code",
   "execution_count": 2,
   "metadata": {},
   "outputs": [
    {
     "data": {
      "text/html": [
       "        <script type=\"text/javascript\">\n",
       "        window.PlotlyConfig = {MathJaxConfig: 'local'};\n",
       "        if (window.MathJax) {MathJax.Hub.Config({SVG: {font: \"STIX-Web\"}});}\n",
       "        if (typeof require !== 'undefined') {\n",
       "        require.undef(\"plotly\");\n",
       "        requirejs.config({\n",
       "            paths: {\n",
       "                'plotly': ['https://cdn.plot.ly/plotly-latest.min']\n",
       "            }\n",
       "        });\n",
       "        require(['plotly'], function(Plotly) {\n",
       "            window._Plotly = Plotly;\n",
       "        });\n",
       "        }\n",
       "        </script>\n",
       "        "
      ]
     },
     "metadata": {},
     "output_type": "display_data"
    }
   ],
   "source": [
    "import pandas as pd\n",
    "from dask import delayed\n",
    "import numpy as np\n",
    "import math\n",
    "from time import sleep\n",
    "import re\n",
    "import string\n",
    "import random\n",
    "from collections import Counter\n",
    "import sys\n",
    "np.set_printoptions(threshold=sys.maxsize)\n",
    "##Imports the song playing capacity.\n",
    "import webbrowser\n",
    "from nltk.tokenize import sent_tokenize, word_tokenize \n",
    "import warnings \n",
    "  \n",
    "warnings.filterwarnings(action = 'ignore') \n",
    "  \n",
    "import gensim \n",
    "from gensim.models import Word2Vec \n",
    "from sklearn import svm\n",
    "\n",
    "#Philani's imports\n",
    "import matplotlib.pyplot as plt\n",
    "from plotly.offline import download_plotlyjs, init_notebook_mode, plot, iplot\n",
    "import plotly as py\n",
    "import plotly.graph_objs as go\n",
    "import time\n",
    "\n",
    "init_notebook_mode(connected=True)   \n",
    "from sklearn.metrics import confusion_matrix\n",
    "from sklearn.metrics import accuracy_score \n",
    "from sklearn.metrics import classification_report"
   ]
  },
  {
   "cell_type": "markdown",
   "metadata": {},
   "source": [
    "# Hello To My Friends\n",
    "\n",
    "### My Notes\n",
    "The program requires the sleep statement this is just to ensure that I can see that certain parts are actually functioning in parallel. <br>\n",
    "The idea here is that pandas is excellent at reading in csv files so keep pandas to read. <br>\n",
    "Pandas also does let you do mysql-esque queries so keep it for the same reason. <br>\n",
    "Pandas has a good data display program - find that Matthew in the other failed itterations <br>\n",
    "The string lib is for the translate <br>\n",
    "The Math lib is to find NaNs <br>\n",
    "The Random lib is just to get samples (training....) <br>\n",
    "The Collections given the itteration could be one of two things: 1 is it is me actually using the counters. <br>\n",
    "The other which is 2: I will swap over to two sets of arrays. I dont think that this might be a smart idea but I am likely to try it <br>\n",
    "There is music just to serve as an alarm for when the data set is done, I thought to add things that are what you do not listen to so that you will always be able to tell when the program is done due to that, however should you want to turn it off feel absolutely free, just remove its library or the line in code where it occurs.<br>\n",
    "It is in good faith as an artistic expression of how to tell when the program is done. But remove it when you feel the program works with your algorithm. Please try to segment your codes using a header similar to mine.\n",
    "### How\n",
    "loadData give it the name of the file you want, the names are tailored to the csv file of fake news <br>\n",
    "\n",
    "removeStringWords takes in the string(since here we except to give it a title or the text) and then it attempts to remove the naughty words from that string, this is a submethod in the cleanString method. Please if you can actually force it to delete all strings that are bad words, I will thank you cause it seems to not always want to. You can test this and you will see that sometimes the removals make certain strings unreadable - there is some Elton John title in there about sharks and paintings on airplanes ??? I dont know what is going on but that is all it said <br>\n",
    "\n",
    "CleanString takes in a string for cleaning, it makes them all lowercase, it __attempts__ to remove all punctuation in it using the translate method. It then splits on spaces and calls the cleanString.<br>\n",
    "\n",
    "Create data sets just gets the data that you want to make your valid, train and test sets from, it uses a panda dataframe so always just pass it that variable from the loadData given your csv file name. Percentage in it is basically the percent reserved for testing and training - split equally i.e give it x and each gets x/2. <br>\n",
    "\n",
    "CreateIndices I would not worry about, but it just chooses randomly which indices are reserved for testing, validation and training<br>\n",
    "\n",
    "getCounters is me attempting __*current Matthew*__ to try and get the counters in some fast parallelized way, since the data calculates quite quickly on just this small set, actually delaying(check dask delayed) makes it slower, it is just me trying to test it works. Please do not leave sleep statements anywhere, if I am done and I have not removed that import and I gave it to you, remove it and kill the sleeps. You will have slow data otherwise<br>\n",
    "\n",
    "Ignore appendArr unless you are really interested, but that is kind of the reason why we will need to find someway to print our parallel visualize somewhere else probably as an image on a doc or something but to tell you I don't know what it is doing would be an understatement. <br>\n",
    "\n",
    "Add Counters is similar since this works with appendArr. <br>\n",
    "\n",
    "tempNameCounter just gets the counters for the relevant title and data frame given the labels possible and those that you are interested in. <br>\n",
    "\n",
    "getRelevantInfo is an abstraction of the functions so that you dont need to worry about the rest only that you need to worry about the outputs for the rest. It basically gets the counters for each label and returns them in order for the labels you gave it i.e if I said labels = [a,b,c] where abc are some arbitrary label then it would return them in that order for the labels of a, b and c. It specifically splits pandas as you know how that would work given reading the above. <br>\n",
    "\n",
    "DataWarning is me warning you of how long things will take to compute roughly, it depends a bit on your cores but not as much as I would like to given that counters is the real problem. I thought about - maybe I said it somewhere in here - doing two arrays side by side and looking at the strings, finding their index and then incrementing at that index as I read through but I have not done that. I could do it but it is a bit weird and I dont know how much it would impact counters since there would still be a lot of resizing and counters due to the fact *I believe* is a dictionary and that python treats dictionaries as hash tables, it is already quite good and should be similar to the method I would like to do. <br>\n",
    "\n",
    "Note that however, the get functions return for whatever dataFrame you called given that respective get, the data under that get along with the labels in order (so in our case a getTitle would get you the title column and then all the labels under that title that you wanted given the getRelevantInfo. I have intentionally not let you put labels into it at current given the fact that we only have labels [0,1] <br>\n",
    "\n",
    "Last addition was an unzip function, give it the data you get from your get function so if you getTitles give it that getTitles function. I recommend that what you do is you pass it something like unzip(getTitles(*dataFrame*)) where that is the dataframe you want and are interested in. But you can use any of the three gets. It will return to you a matrix (so just take from it the specific parts you are interested in e.g temp = unzip(getTitles(trainFrame)), I want the words that are real so I say temp[0] to get the titles that are true. temp[1] to get the count of those that are true __*IN ORDER as they appear in temp[0]*__ then temp[2] gives fake news titles and temp[3] their respective count. That should be all that is necessary.\n",
    "\n",
    "### Notes on the Data Set\n",
    "The CSV file contains the news articles. The articles are in the order of - ID, Title, Author, Text, Label. <br>\n",
    "There are other languages in the data set, there is French and Russian at the very least. These will make calculations take a bit longer since more entries.<br>\n",
    "We should attempt to only keep the top ~10 000 words or so, otherwise the calculation could be a nightmare.<br>\n",
    "We could have preprocessed it in visual studio however, I hope that at some point we can just get it to do a web scrape which can boost the mark a bit, what I am referring to is that we can after calculating all our probabilities we just store that (for our best itteration or some random itteration). Then someone would just uses the machine learning algorithm, and it allows a user to enter a link for a news site. Then it attempts to tell if the article is fake news or fake news.<br>\n"
   ]
  },
  {
   "cell_type": "code",
   "execution_count": 3,
   "metadata": {},
   "outputs": [],
   "source": [
    "def count_words(text):\n",
    "    return Counter(text)"
   ]
  },
  {
   "cell_type": "code",
   "execution_count": 4,
   "metadata": {},
   "outputs": [],
   "source": [
    "def loadData(name):\n",
    "    return pd.read_csv(name, names = ['ID','Title','Author','Text','Label'])"
   ]
  },
  {
   "cell_type": "code",
   "execution_count": 5,
   "metadata": {},
   "outputs": [],
   "source": [
    "def removeStringWords(string, badWords):\n",
    "    size = len(badWords)\n",
    "    for i in range(size):\n",
    "        try:\n",
    "            string.remove(badWords[i])\n",
    "        except:\n",
    "            continue\n",
    "        \n",
    "    return string"
   ]
  },
  {
   "cell_type": "code",
   "execution_count": 6,
   "metadata": {},
   "outputs": [],
   "source": [
    "def cleanString(text):\n",
    "    badWords = ['not','you','at','from','of','us','in','have','yes','no','are','','for','but','that','it','this','he','she','they','that','a','an','who','where','there','his','her','their','i','my','we','our','were','the','if','as','and','in','on','we','to','also','so','is','its']\n",
    "    try:\n",
    "        text = text.lower()\n",
    "        text = text.translate(str.maketrans('', '', string.punctuation))\n",
    "        text = text.split(' ')\n",
    "        text = removeStringWords(text, badWords)\n",
    "        #rint('success')\n",
    "        #sleep(0.01)\n",
    "        return text\n",
    "    except:\n",
    "        #print('fail')\n",
    "        return"
   ]
  },
  {
   "cell_type": "code",
   "execution_count": 7,
   "metadata": {},
   "outputs": [],
   "source": [
    "def createDataSets(totData, percent):\n",
    "    dataSize = len(totData)\n",
    "    testIndices, validIndices = createIndices(dataSize, percent)\n",
    "    trainIndices = np.empty(0)\n",
    "    for i in range(dataSize):\n",
    "        \n",
    "        if i not in testIndices and i not in validIndices:\n",
    "            trainIndices = np.append(trainIndices, i)\n",
    "            \n",
    "    testFrame = totData.drop(trainIndices)\n",
    "    testFrame = testFrame.drop(validIndices)\n",
    "    validFrame = totData.drop(trainIndices)\n",
    "    validFrame = validFrame.drop(testIndices)\n",
    "    trainFrame = totData.drop(testIndices)\n",
    "    trainFrame = trainFrame.drop(validIndices)\n",
    "    return trainFrame, testFrame, validFrame"
   ]
  },
  {
   "cell_type": "code",
   "execution_count": 8,
   "metadata": {},
   "outputs": [],
   "source": [
    "def createIndices(dataSize, percent):\n",
    "    sizeChoice = int(dataSize * 0.2)\n",
    "    randomChoices = random.sample(range(dataSize-1),sizeChoice)\n",
    "    half = int(sizeChoice/2)\n",
    "    firstHalf = randomChoices[0:half]\n",
    "    secondHalf = randomChoices[half:]\n",
    "    return firstHalf, secondHalf"
   ]
  },
  {
   "cell_type": "markdown",
   "metadata": {},
   "source": [
    "Assume that this is given the data, the title of the dataframe and then the labels for that data."
   ]
  },
  {
   "cell_type": "code",
   "execution_count": 9,
   "metadata": {},
   "outputs": [],
   "source": [
    "def getCounters(data, title, labelTitle, labelDesired):\n",
    "        dataTitle = data.loc[data[labelTitle] == labelDesired]\n",
    "        titleArray = dataTitle[title].to_numpy()\n",
    "        results = []\n",
    "        for i in titleArray:\n",
    "            y = delayed(cleanString)(i)\n",
    "            try:\n",
    "                p = float(y[0])\n",
    "                pass\n",
    "            except:\n",
    "                if y is not None:\n",
    "                    #print(y)\n",
    "                    appendArr(results,y)\n",
    "                \n",
    "        texts = delayed(results)\n",
    "        return texts.compute()"
   ]
  },
  {
   "cell_type": "code",
   "execution_count": 10,
   "metadata": {},
   "outputs": [],
   "source": [
    "def appendArr(text, y):\n",
    "    return text.append(y)"
   ]
  },
  {
   "cell_type": "code",
   "execution_count": 11,
   "metadata": {},
   "outputs": [],
   "source": [
    "def addCounters(prevCount, currCount):\n",
    "    return prevCount + currCount"
   ]
  },
  {
   "cell_type": "code",
   "execution_count": 12,
   "metadata": {},
   "outputs": [],
   "source": [
    "def tempNameCounter(dataFrame, title, labelTitle, labelDesired):\n",
    "    titleCounterReal = getCounters(trainFrame, title, labelTitle, labelDesired)\n",
    "    results = []\n",
    "    resultstwo = []\n",
    "    j = 0\n",
    "    for i in titleCounterReal:\n",
    "        y = delayed(count_words)(i)\n",
    "        if j % 2:\n",
    "            results.append(y)\n",
    "        else:\n",
    "            resultstwo.append(y) \n",
    "    bigCount = delayed(addCounters)(results,resultstwo)\n",
    "    done = bigCount.compute() \n",
    "    #bigCount.visualize()\n",
    "    sadMe = Counter()\n",
    "    for i in done:\n",
    "        sadMe = sadMe + count_words(i)\n",
    "    return sadMe"
   ]
  },
  {
   "cell_type": "code",
   "execution_count": 13,
   "metadata": {},
   "outputs": [],
   "source": [
    "def getRelevantInfo(dataFrame, title, labelTitle, labels):\n",
    "    results = []\n",
    "    j = 0\n",
    "    for i in labels:\n",
    "        #print(tempNameCounter(dataFrame, title, labelTitle, i))\n",
    "        results.append(tempNameCounter(dataFrame, title, labelTitle, i))\n",
    "        print(\"result at index \" + str(j) + \" corresponds to \" + title + \" of label \" + str(i))\n",
    "        j +=1\n",
    "        \n",
    "    return results"
   ]
  },
  {
   "cell_type": "code",
   "execution_count": 14,
   "metadata": {},
   "outputs": [],
   "source": [
    "def dataWarning(name):\n",
    "    if name == 'tenPercent.csv':\n",
    "        print(\"Expect a short load time, stay around\")\n",
    "        return\n",
    "    elif name == 'twentyPercent.csv':\n",
    "        print('Expect a low load time, stay around')\n",
    "    elif name == 'fourtyPercent.csv':\n",
    "        print('Expect a few minites, check your phone or something')\n",
    "    elif name == 'eightyPercent.csv':\n",
    "        print('Expect a relatively long load time, do something else in the mean while')\n",
    "    else:\n",
    "        print('Expect a long load time, make a cup of tea or something...')"
   ]
  },
  {
   "cell_type": "code",
   "execution_count": 15,
   "metadata": {},
   "outputs": [],
   "source": [
    "def getTitles(dataFrame):\n",
    "    print(\"Running Titles\")\n",
    "    return  getRelevantInfo(dataFrame, 'Title', 'Label', [0,1])\n",
    "    "
   ]
  },
  {
   "cell_type": "code",
   "execution_count": 16,
   "metadata": {},
   "outputs": [],
   "source": [
    "def getText(dataFrame):\n",
    "    print(\"Running Text\")\n",
    "    return getRelevantInfo(dataFrame, 'Text', 'Label', [0,1])"
   ]
  },
  {
   "cell_type": "code",
   "execution_count": 17,
   "metadata": {},
   "outputs": [],
   "source": [
    "def getAuthor(dataFrame):\n",
    "    print(\"Running Text\")\n",
    "    return getRelevantInfo(dataFrame, 'Author', 'Label', [0,1])"
   ]
  },
  {
   "cell_type": "code",
   "execution_count": 18,
   "metadata": {},
   "outputs": [],
   "source": [
    "def unzip(data):\n",
    "    wordsReal, numberReal = [list(c) for c in zip(*list(data[0].items()))]\n",
    "    wordsFake, numberFake = [list(c) for c in zip(*list(data[1].items()))]\n",
    "    return [wordsReal,numberReal,wordsFake,numberFake]"
   ]
  },
  {
   "cell_type": "code",
   "execution_count": 19,
   "metadata": {},
   "outputs": [],
   "source": [
    "def playSongWhenDone():\n",
    "    # feel free to add songs or remove them as you want, just follow the format of nextNum,songLink\n",
    "    temp = pd.read_csv('songs.csv', names = ['id', 'url'])\n",
    "    ID = temp['id'].to_numpy()\n",
    "    urls = temp['url'].to_numpy()\n",
    "    i = random.sample(range(len(ID)),1)\n",
    "    song = urls[i]\n",
    "    try:\n",
    "        webbrowser.open(song[0])\n",
    "    except:\n",
    "        print(\"no internet\")"
   ]
  },
  {
   "cell_type": "code",
   "execution_count": 20,
   "metadata": {},
   "outputs": [],
   "source": [
    "#assume that we pass this the results from someething like getText\n",
    "#This implies that result[0] = realWords, results[2] = fake words\n",
    "#mainly done in case you get new words and need to make some form laplace smoothing to see if the words are contained in your databased for a given set of data\n",
    "#e.g have my titles ever seen this word\n",
    "def createBinaryAllDataString(results):\n",
    "    #use the longest array\n",
    "    newArray = np.empty(0)\n",
    "    usedReal = True\n",
    "    if len(results[0]) > len(results[1]):\n",
    "        newArray = results[0]\n",
    "        usedReal = True\n",
    "    else:\n",
    "        newArray = results[2]\n",
    "        usedReal = False\n",
    "    if usedReal == True:\n",
    "        for i in results[2]:\n",
    "            if i not in newArray:\n",
    "                newArray = np.append(newArray, i)\n",
    "    else:\n",
    "        for i in results[0]:\n",
    "            if i not in newArray:\n",
    "                newArray = np.append(newArray, i)\n",
    "   # testCreateBinaryDataStrings(results[0], results[2], newArray)\n",
    "    return newArray"
   ]
  },
  {
   "cell_type": "code",
   "execution_count": 21,
   "metadata": {},
   "outputs": [],
   "source": [
    "#Please only use this to test to see if it generates the binary data correctly it is referenced in createBinaryDataStrings.\n",
    "#The idea is that should we have all the words captured the result array since it is constituted of words should be equal to the length of the the two sets of words at it's max but obviously\n",
    "#we expect it to be a bit or a lot smaller than it, so I made a way of testing it to see that everytime it finds a word it counts it as a 1(for being true in the array)\n",
    "#if the printed counter is not the same as teh array in size then clearly something must be missing.\n",
    "#hence why this will definitely show that the above works\n",
    "def testCreateBinaryDataStrings(realArray, fakeArray, resultArray):\n",
    "    print(len(realArray))\n",
    "    print(len(fakeArray))\n",
    "    j = 0 \n",
    "    for i in realArray:\n",
    "        if i in resultArray:\n",
    "            j += 1\n",
    "    print(j)\n",
    "    j = 0\n",
    "    for i in fakeArray:\n",
    "        if i in resultArray:\n",
    "            j += 1\n",
    "    print(j)\n",
    "    print(len(resultArray))"
   ]
  },
  {
   "cell_type": "code",
   "execution_count": 22,
   "metadata": {},
   "outputs": [],
   "source": [
    "def vectoriseData(dataPoint, allData):\n",
    "    size = len(allData)\n",
    "    binary = np.zeros(size)\n",
    "    for j in dataPoint:\n",
    "                         \n",
    "        if j in allData:\n",
    "            print(j)          \n",
    "            binary[np.where(allData==j)] = 1\n",
    "                         \n",
    "    return binary\n",
    "                         "
   ]
  },
  {
   "cell_type": "code",
   "execution_count": 23,
   "metadata": {},
   "outputs": [],
   "source": [
    "def getEmbeddingModel(allData, num_dimensions_for_model):\n",
    "    #Use all words in titles and texts to train embedding model\n",
    "    allTitles = allData[:,1]\n",
    "    allText = allData[:,3]\n",
    "    allTitlesAndText = np.concatenate((allText,allTitles))\n",
    "        \n",
    "    dataForEmbedding = []\n",
    "    \n",
    "    remove = string.punctuation\n",
    "    \n",
    "    for currTitleOrText in allTitlesAndText:\n",
    "        #For each title or text convert to sentences and words in order to\n",
    "        #get the data in the correct format to train the embedding model\n",
    "\n",
    "        for j in sent_tokenize(currTitleOrText):\n",
    "                \n",
    "            temp = [] \n",
    "      \n",
    "            # tokenize the sentence into words \n",
    "            for k in word_tokenize(j):\n",
    "                \n",
    "                curr_word = k + ''\n",
    "                #remove all punctuation from word\n",
    "                curr_word = curr_word.translate(str.maketrans('', '', remove))\n",
    "                \n",
    "                if len(curr_word) > 0:\n",
    "                    temp.append(curr_word.lower()) \n",
    "  \n",
    "            if len(temp) > 0:\n",
    "                dataForEmbedding.append(temp) \n",
    "            \n",
    "    \n",
    "    embeddingModel = gensim.models.Word2Vec(dataForEmbedding, min_count = 1,  size = num_dimensions_for_model, window = 5)\n",
    "    \n",
    "    return embeddingModel"
   ]
  },
  {
   "cell_type": "code",
   "execution_count": 24,
   "metadata": {},
   "outputs": [],
   "source": [
    "def getCleanedData(data):\n",
    "    #Remove Nan, remove punctuation, and new lines\n",
    "    feature_names = np.array(['ID','Title','Author','Text'])\n",
    "    \n",
    "    #Convert NaNs\n",
    "    for i in range(3):\n",
    "        string_replacement = \"\"\n",
    "        if i==1:\n",
    "            string_replacement = \"-NO AUTHOR-\"\n",
    "        else:\n",
    "            string_replacement = \"NaN\"\n",
    "\n",
    "        for j in range(len(data)):\n",
    "            if pd.isnull(data[j][i+1]):\n",
    "                data[j][2] = string_replacement\n",
    "        \n",
    "    #Defining which punctuation to remove\n",
    "    remove = string.punctuation\n",
    "    remove = remove.replace(\".\",\"“\")\n",
    "    remove = remove.replace(\"!\",\"”\")\n",
    "    remove = remove.replace(\"?\",\"’\")\n",
    "    remove = remove + '‘'\n",
    "    remove = remove + '—'\n",
    "    remove = remove + '–'\n",
    "\n",
    "    #Remove NaNs\n",
    "    data = data[np.all(data != \"NaN\", axis = 1)]\n",
    "    \n",
    "    #Remove punctuation(except '.','?','!') and new lines\n",
    "    for i in range(3):\n",
    "        for j in range(len(data)):\n",
    "            data[j][i+1] = data[j][i+1].replace(\"\\n\",\"\").translate(str.maketrans('', '', remove))\n",
    "    \n",
    "    return feature_names, data"
   ]
  },
  {
   "cell_type": "code",
   "execution_count": 25,
   "metadata": {},
   "outputs": [],
   "source": [
    "def convertRowsToDataPoints(data, embedding_model, model_vocab, num_expected_columns):\n",
    "    #Convert all rows in data to relevant data_points\n",
    "    data_points_with_labels_list = []\n",
    "    for row in data:\n",
    "        convertedRow = convertRowToDataPoint(row, embedding_model, model_vocab)\n",
    "        if len(convertedRow) == num_expected_columns:\n",
    "            data_points_with_labels_list.append(convertRowToDataPoint(row, embedding_model, model_vocab))\n",
    "        \n",
    "    data_points_with_labels = np.array(data_points_with_labels_list)\n",
    "    return data_points_with_labels"
   ]
  },
  {
   "cell_type": "code",
   "execution_count": 26,
   "metadata": {},
   "outputs": [],
   "source": [
    "def convertRowToDataPoint(row, embedding_model, model_vocab):\n",
    "    #Take in row and convert to data point\n",
    "    #Stores text points then title points then label\n",
    "    curr_title = row[1]\n",
    "    curr_text = row[3]\n",
    "    data_point = np.array([row[4]])\n",
    "    data_point = np.append(getAverageEmbedding(curr_title, embedding_model, model_vocab), data_point)\n",
    "    data_point = np.append(getAverageEmbedding(curr_text, embedding_model, model_vocab), data_point)\n",
    "    return data_point"
   ]
  },
  {
   "cell_type": "code",
   "execution_count": 27,
   "metadata": {},
   "outputs": [],
   "source": [
    "def convertRowToDataPointWithoutLabel(row, embedding_model, model_vocab):\n",
    "    #Take in row and convert to data point\n",
    "    #Stores text points then title points then label\n",
    "    curr_title = row[1]\n",
    "    curr_text = row[3]\n",
    "    data_point = np.array([])\n",
    "    data_point = np.append(getAverageEmbedding(curr_title, embedding_model, model_vocab), data_point)\n",
    "    data_point = np.append(getAverageEmbedding(curr_text, embedding_model, model_vocab), data_point)\n",
    "    return data_point"
   ]
  },
  {
   "cell_type": "code",
   "execution_count": 28,
   "metadata": {},
   "outputs": [],
   "source": [
    "def getAverageEmbedding(curr_string, embedding_model, model_vocab):\n",
    "    #Take in string that has already been cleaned of punctuation and newlines\n",
    "    total_words = 0.0\n",
    "    stop_words = ['not','you','at','from','of','us','in','have','yes','no','are','','for','but','that','it','this','he','she','they','that','a','an','who','where','there','his','her','their','i','my','we','our','were','the','if','as','and','in','on','we','to','also','so','is','its']\n",
    "    remove = string.punctuation\n",
    "    curr_embedding = np.array([])\n",
    "    for k in word_tokenize(curr_string):\n",
    "        curr_word = k + ''\n",
    "        #remove all punctuation from word\n",
    "        curr_word = curr_word.translate(str.maketrans('', '', remove))\n",
    "        #convert to lowercase\n",
    "        curr_word = curr_word.lower()\n",
    "        #check if it is a stop word or empty\n",
    "        if curr_word in stop_words:\n",
    "            continue\n",
    "        #check if word is in model_vocab\n",
    "        if curr_word not in model_vocab:\n",
    "            continue\n",
    "        \n",
    "        if len(curr_embedding) == 0:\n",
    "            curr_embedding = embedding_model[curr_word]\n",
    "        else:\n",
    "            curr_embedding = curr_embedding+embedding_model[curr_word]\n",
    "        \n",
    "        total_words = total_words + 1.0\n",
    "    \n",
    "    curr_embedding = curr_embedding/total_words\n",
    "    return curr_embedding"
   ]
  },
  {
   "cell_type": "code",
   "execution_count": 29,
   "metadata": {
    "scrolled": false
   },
   "outputs": [],
   "source": [
    "# Load the dataset (start off with a small set, then work your way up). \n",
    "# Convert all data to numpy array, because they are faster and easier to work with.\n",
    "name = 'Actual Data.csv'\n",
    "data = loadData(name)\n",
    "data = data.to_numpy()\n",
    "# print(data[:5])\n",
    "\n",
    "# Clean the data so that it can be used in training (This refers to removing rows that contain NaN, removing punctuation, and removing \\n(newlines))\n",
    "# Use cleaned data to train our embedding model. The embedding model is what is used to convert the words to meaningful vectors. \n",
    "# I give the function the data and the number of dimensions I want my vector to be after converting the word.\n",
    "feature_names, data = getCleanedData(data)\n",
    "EmbeddingModel = getEmbeddingModel(data, 100) # test\n",
    "model_vocab = EmbeddingModel.wv.vocab # test"
   ]
  },
  {
   "cell_type": "code",
   "execution_count": 30,
   "metadata": {
    "scrolled": false
   },
   "outputs": [],
   "source": [
    "# Demonstration of converting our data to a usable format(i.e from words to vectors)\n",
    "trainData = data\n",
    "trainData2 = data\n",
    "#validationData = data[100:150]\n",
    "\n",
    "# Send data to method in order to convert it. Passed through the data, the embedding model we've previously trained,\n",
    "# the vocabulary of words in our embedded model(to check if we can actually convert a word to a vector or not), \n",
    "# and the number of columns we expect in the matrix that will be returned(at the moment I am calculating this\n",
    "# by using the formula 2*num_dimensions_used_in_embedding + 1).\n",
    "trainData = convertRowsToDataPoints(trainData, EmbeddingModel, model_vocab, 201)\n",
    "trainData2 = convertRowsToDataPoints(trainData2, EmbeddingModel, model_vocab, 201)\n",
    "#validationData = convertRowsToDataPoints(validationData, EmbeddingModel, model_vocab, 201)\n",
    "\n",
    "#Split y_labels from data to store separately\n",
    "trainData_y = trainData[:,200]\n",
    "trainData2_y = trainData2[:,200]\n",
    "\n",
    "#validationData_y = validationData[:,200]\n",
    "\n",
    "#Delete y_labels from data\n",
    "trainData = np.delete(trainData, 200, 1)\n",
    "trainData2 = np.delete(trainData2, 200, 1)\n",
    "#validationData = np.delete(validationData, 200, 1)"
   ]
  },
  {
   "cell_type": "markdown",
   "metadata": {},
   "source": [
    "# Logistic Regression Implementation\n",
    "\n",
    "Logistic regression will be accomplished using two implementations of gradient descent: loss minimization and the maximum likelihood estimation. \n",
    "\n",
    "Reference to the website that helped a lot with the functions:\n",
    "\n",
    "Kaggle.com. 2020. Logistic Regression From Scratch - Python. [online] Available at: <https://www.kaggle.com/jeppbautista/logistic-regression-from-scratch-python> [Accessed 17 April 2020]."
   ]
  },
  {
   "cell_type": "code",
   "execution_count": 31,
   "metadata": {},
   "outputs": [],
   "source": [
    "def sigmoid(X, weight):\n",
    "    z = np.dot(X, weight)\n",
    "    return 1 / (1 + np.exp(-z))\n",
    "\n",
    "# The following functions will be used in the implementation of loss minimizing with the gradient descent.\n",
    "def loss(h, y):\n",
    "    return (-y * np.log(h) - (1 - y) * np.log(1 - h)).mean()\n",
    "\n",
    "def gradient_descent(X, h, y):\n",
    "    return np.dot(X.T, (h - y)) / y.shape[0]\n",
    "\n",
    "def update_weight_loss(weight, learning_rate, gradient):\n",
    "    return weight - learning_rate * gradient\n",
    "\n",
    "#The following functions will be used in the implementation of the maximum likelihood estimation with gradient ascent.\n",
    "def log_likelihood(x, y, weights):\n",
    "    z = np.dot(x, weights)\n",
    "    ll = np.sum( y*z - np.log(1 + np.exp(z)) )\n",
    "    return ll\n",
    "\n",
    "def gradient_ascent(X, h, y):\n",
    "    return np.dot(X.T, y - h)\n",
    "\n",
    "def update_weight_mle(weight, learning_rate, gradient):\n",
    "    return weight + learning_rate * gradient"
   ]
  },
  {
   "cell_type": "code",
   "execution_count": 36,
   "metadata": {},
   "outputs": [
    {
     "name": "stdout",
     "output_type": "stream",
     "text": [
      "Training time (Log Reg using Gradient descent):565.4274728298187 seconds\n",
      "Learning rate: 0.5\n",
      "Iteration: 100000\n"
     ]
    }
   ],
   "source": [
    "# Implementation of loss minimization with gradient descent:\n",
    "start_time = time.time()\n",
    "num_iter = 100000\n",
    "\n",
    "intercept = np.ones((trainData.shape[0], 1)) \n",
    "trainData = np.concatenate((intercept, trainData), axis=1)\n",
    "theta = np.zeros(trainData.shape[1])\n",
    "\n",
    "for i in range(num_iter):\n",
    "    h = sigmoid(trainData, theta)\n",
    "    gradient = gradient_descent(trainData, h, trainData_y)\n",
    "    theta = update_weight_loss(theta, 0.5, gradient)\n",
    "    \n",
    "print(\"Training time (Log Reg using Gradient descent):\" + str(time.time() - start_time) + \" seconds\")\n",
    "print(\"Learning rate: {}\\nIteration: {}\".format(0.5, num_iter))\n",
    "\n",
    "# Illustrations of loss minimization with gradient descent:\n",
    "result = sigmoid(trainData, theta)\n",
    "f = pd.DataFrame(np.around(result, decimals=6)) \n",
    "f['Label'] = trainData_y\n",
    "f['Classifier'] = f[0].apply(lambda x : 0 if x < 0.5 else 1)\n",
    "f.columns = ['Value','Label','Classifier']"
   ]
  },
  {
   "cell_type": "code",
   "execution_count": 37,
   "metadata": {},
   "outputs": [
    {
     "data": {
      "text/html": [
       "<div>\n",
       "<style scoped>\n",
       "    .dataframe tbody tr th:only-of-type {\n",
       "        vertical-align: middle;\n",
       "    }\n",
       "\n",
       "    .dataframe tbody tr th {\n",
       "        vertical-align: top;\n",
       "    }\n",
       "\n",
       "    .dataframe thead th {\n",
       "        text-align: right;\n",
       "    }\n",
       "</style>\n",
       "<table border=\"1\" class=\"dataframe\">\n",
       "  <thead>\n",
       "    <tr style=\"text-align: right;\">\n",
       "      <th></th>\n",
       "      <th>Value</th>\n",
       "      <th>Label</th>\n",
       "      <th>Classifier</th>\n",
       "    </tr>\n",
       "  </thead>\n",
       "  <tbody>\n",
       "    <tr>\n",
       "      <td>0</td>\n",
       "      <td>0.944316</td>\n",
       "      <td>1.0</td>\n",
       "      <td>1</td>\n",
       "    </tr>\n",
       "    <tr>\n",
       "      <td>1</td>\n",
       "      <td>0.411916</td>\n",
       "      <td>0.0</td>\n",
       "      <td>0</td>\n",
       "    </tr>\n",
       "    <tr>\n",
       "      <td>2</td>\n",
       "      <td>0.997359</td>\n",
       "      <td>1.0</td>\n",
       "      <td>1</td>\n",
       "    </tr>\n",
       "    <tr>\n",
       "      <td>3</td>\n",
       "      <td>0.844300</td>\n",
       "      <td>1.0</td>\n",
       "      <td>1</td>\n",
       "    </tr>\n",
       "    <tr>\n",
       "      <td>4</td>\n",
       "      <td>0.765801</td>\n",
       "      <td>1.0</td>\n",
       "      <td>1</td>\n",
       "    </tr>\n",
       "    <tr>\n",
       "      <td>...</td>\n",
       "      <td>...</td>\n",
       "      <td>...</td>\n",
       "      <td>...</td>\n",
       "    </tr>\n",
       "    <tr>\n",
       "      <td>20119</td>\n",
       "      <td>0.027655</td>\n",
       "      <td>0.0</td>\n",
       "      <td>0</td>\n",
       "    </tr>\n",
       "    <tr>\n",
       "      <td>20120</td>\n",
       "      <td>0.000015</td>\n",
       "      <td>0.0</td>\n",
       "      <td>0</td>\n",
       "    </tr>\n",
       "    <tr>\n",
       "      <td>20121</td>\n",
       "      <td>0.001544</td>\n",
       "      <td>0.0</td>\n",
       "      <td>0</td>\n",
       "    </tr>\n",
       "    <tr>\n",
       "      <td>20122</td>\n",
       "      <td>0.997090</td>\n",
       "      <td>1.0</td>\n",
       "      <td>1</td>\n",
       "    </tr>\n",
       "    <tr>\n",
       "      <td>20123</td>\n",
       "      <td>0.998886</td>\n",
       "      <td>1.0</td>\n",
       "      <td>1</td>\n",
       "    </tr>\n",
       "  </tbody>\n",
       "</table>\n",
       "<p>20124 rows × 3 columns</p>\n",
       "</div>"
      ],
      "text/plain": [
       "          Value  Label  Classifier\n",
       "0      0.944316    1.0           1\n",
       "1      0.411916    0.0           0\n",
       "2      0.997359    1.0           1\n",
       "3      0.844300    1.0           1\n",
       "4      0.765801    1.0           1\n",
       "...         ...    ...         ...\n",
       "20119  0.027655    0.0           0\n",
       "20120  0.000015    0.0           0\n",
       "20121  0.001544    0.0           0\n",
       "20122  0.997090    1.0           1\n",
       "20123  0.998886    1.0           1\n",
       "\n",
       "[20124 rows x 3 columns]"
      ]
     },
     "execution_count": 37,
     "metadata": {},
     "output_type": "execute_result"
    }
   ],
   "source": [
    "f"
   ]
  },
  {
   "cell_type": "code",
   "execution_count": 38,
   "metadata": {},
   "outputs": [
    {
     "data": {
      "image/png": "[encoded data removed]",
      "text/plain": [
       "<Figure size 432x288 with 1 Axes>"
      ]
     },
     "metadata": {
      "needs_background": "light"
     },
     "output_type": "display_data"
    }
   ],
   "source": [
    "# Sigmoid function of the implementation of loss minimization with gradient descent:\n",
    "result.sort()\n",
    "x = np.zeros(trainData.shape[0])\n",
    "for i in range(trainData.shape[0]):\n",
    "    x[i] = i\n",
    "plt.title(\"Sigmoid Function\")\n",
    "plt.xlabel(\"z\")\n",
    "plt.ylabel(\"sigma(z)\")\n",
    "plt.plot(x,result)\n",
    "plt.show()"
   ]
  },
  {
   "cell_type": "code",
   "execution_count": 39,
   "metadata": {},
   "outputs": [
    {
     "name": "stdout",
     "output_type": "stream",
     "text": [
      "Confusion Matrix :\n",
      "[[9772  614]\n",
      " [ 438 9300]]\n",
      "Accuracy Score : 0.9477241105148082\n",
      "Report : \n",
      "              precision    recall  f1-score   support\n",
      "\n",
      "         0.0       0.96      0.94      0.95     10386\n",
      "         1.0       0.94      0.96      0.95      9738\n",
      "\n",
      "    accuracy                           0.95     20124\n",
      "   macro avg       0.95      0.95      0.95     20124\n",
      "weighted avg       0.95      0.95      0.95     20124\n",
      "\n"
     ]
    }
   ],
   "source": [
    "# Calculating the accuracy of the implementation of loss minimization with gradient descent:\n",
    "# (Thanks to the help of the scikit-learn library).\n",
    "actual = f['Label']\n",
    "predicted = f['Classifier']\n",
    "cf = confusion_matrix(actual, predicted)\n",
    "\n",
    "print('Confusion Matrix :')\n",
    "print(cf) \n",
    "print('Accuracy Score :',accuracy_score(actual, predicted)) \n",
    "print('Report : ')\n",
    "print(classification_report(actual, predicted)) "
   ]
  },
  {
   "cell_type": "code",
   "execution_count": 40,
   "metadata": {},
   "outputs": [
    {
     "name": "stdout",
     "output_type": "stream",
     "text": [
      "Training time (Log Reg using MLE):1353.0205280780792seconds\n",
      "Learning rate: 0.5\n",
      "Iteration: 100000\n"
     ]
    }
   ],
   "source": [
    "# Implementation of the maximum likelihood estimation with gradient ascent: \n",
    "start_time = time.time()\n",
    "num_iter = 100000\n",
    "\n",
    "intercept2 = np.ones((trainData2.shape[0], 1))\n",
    "trainData2 = np.concatenate((intercept2, trainData2), axis=1)\n",
    "theta2 = np.zeros(trainData2.shape[1])\n",
    "\n",
    "for i in range(num_iter):\n",
    "    h2 = sigmoid(trainData2, theta2)\n",
    "    gradient2 = gradient_ascent(trainData2, h2, trainData2_y)\n",
    "    theta2 = update_weight_mle(theta2, 0.5, gradient2)\n",
    "    \n",
    "print(\"Training time (Log Reg using MLE):\" + str(time.time() - start_time) + \"seconds\")\n",
    "print(\"Learning rate: {}\\nIteration: {}\".format(0.5, num_iter))\n",
    "\n",
    "# Illustrations of the maximum likelihood estimation with gradient ascent:\n",
    "result2 = sigmoid(trainData2, theta2)\n",
    "f2 = pd.DataFrame(np.around(result2, decimals=6))\n",
    "f2['Label'] = trainData2_y\n",
    "f2['Classifier'] = f2[0].apply(lambda x : 0 if x < 0.5 else 1)\n",
    "f2.columns = ['Value','Label','Classifier']"
   ]
  },
  {
   "cell_type": "code",
   "execution_count": 41,
   "metadata": {},
   "outputs": [
    {
     "data": {
      "text/html": [
       "<div>\n",
       "<style scoped>\n",
       "    .dataframe tbody tr th:only-of-type {\n",
       "        vertical-align: middle;\n",
       "    }\n",
       "\n",
       "    .dataframe tbody tr th {\n",
       "        vertical-align: top;\n",
       "    }\n",
       "\n",
       "    .dataframe thead th {\n",
       "        text-align: right;\n",
       "    }\n",
       "</style>\n",
       "<table border=\"1\" class=\"dataframe\">\n",
       "  <thead>\n",
       "    <tr style=\"text-align: right;\">\n",
       "      <th></th>\n",
       "      <th>Value</th>\n",
       "      <th>Label</th>\n",
       "      <th>Classifier</th>\n",
       "    </tr>\n",
       "  </thead>\n",
       "  <tbody>\n",
       "    <tr>\n",
       "      <td>0</td>\n",
       "      <td>1.0</td>\n",
       "      <td>1.0</td>\n",
       "      <td>1</td>\n",
       "    </tr>\n",
       "    <tr>\n",
       "      <td>1</td>\n",
       "      <td>0.0</td>\n",
       "      <td>0.0</td>\n",
       "      <td>0</td>\n",
       "    </tr>\n",
       "    <tr>\n",
       "      <td>2</td>\n",
       "      <td>1.0</td>\n",
       "      <td>1.0</td>\n",
       "      <td>1</td>\n",
       "    </tr>\n",
       "    <tr>\n",
       "      <td>3</td>\n",
       "      <td>1.0</td>\n",
       "      <td>1.0</td>\n",
       "      <td>1</td>\n",
       "    </tr>\n",
       "    <tr>\n",
       "      <td>4</td>\n",
       "      <td>1.0</td>\n",
       "      <td>1.0</td>\n",
       "      <td>1</td>\n",
       "    </tr>\n",
       "    <tr>\n",
       "      <td>...</td>\n",
       "      <td>...</td>\n",
       "      <td>...</td>\n",
       "      <td>...</td>\n",
       "    </tr>\n",
       "    <tr>\n",
       "      <td>20119</td>\n",
       "      <td>0.0</td>\n",
       "      <td>0.0</td>\n",
       "      <td>0</td>\n",
       "    </tr>\n",
       "    <tr>\n",
       "      <td>20120</td>\n",
       "      <td>0.0</td>\n",
       "      <td>0.0</td>\n",
       "      <td>0</td>\n",
       "    </tr>\n",
       "    <tr>\n",
       "      <td>20121</td>\n",
       "      <td>0.0</td>\n",
       "      <td>0.0</td>\n",
       "      <td>0</td>\n",
       "    </tr>\n",
       "    <tr>\n",
       "      <td>20122</td>\n",
       "      <td>1.0</td>\n",
       "      <td>1.0</td>\n",
       "      <td>1</td>\n",
       "    </tr>\n",
       "    <tr>\n",
       "      <td>20123</td>\n",
       "      <td>1.0</td>\n",
       "      <td>1.0</td>\n",
       "      <td>1</td>\n",
       "    </tr>\n",
       "  </tbody>\n",
       "</table>\n",
       "<p>20124 rows × 3 columns</p>\n",
       "</div>"
      ],
      "text/plain": [
       "       Value  Label  Classifier\n",
       "0        1.0    1.0           1\n",
       "1        0.0    0.0           0\n",
       "2        1.0    1.0           1\n",
       "3        1.0    1.0           1\n",
       "4        1.0    1.0           1\n",
       "...      ...    ...         ...\n",
       "20119    0.0    0.0           0\n",
       "20120    0.0    0.0           0\n",
       "20121    0.0    0.0           0\n",
       "20122    1.0    1.0           1\n",
       "20123    1.0    1.0           1\n",
       "\n",
       "[20124 rows x 3 columns]"
      ]
     },
     "execution_count": 41,
     "metadata": {},
     "output_type": "execute_result"
    }
   ],
   "source": [
    "f2"
   ]
  },
  {
   "cell_type": "code",
   "execution_count": 42,
   "metadata": {},
   "outputs": [
    {
     "data": {
      "image/png": "[encoded data removed]",
      "text/plain": [
       "<Figure size 432x288 with 1 Axes>"
      ]
     },
     "metadata": {
      "needs_background": "light"
     },
     "output_type": "display_data"
    }
   ],
   "source": [
    "# Sigmoid function of the implementation of the maximum likelihood estimation with gradient descent:\n",
    "result2.sort()\n",
    "x = np.zeros(trainData.shape[0])\n",
    "for i in range(trainData.shape[0]):\n",
    "    x[i] = i\n",
    "plt.title(\"Sigmoid Function\")\n",
    "plt.xlabel(\"z\")\n",
    "plt.ylabel(\"sigma(z)\")\n",
    "plt.plot(x,result2)\n",
    "plt.show()"
   ]
  },
  {
   "cell_type": "code",
   "execution_count": 43,
   "metadata": {},
   "outputs": [
    {
     "name": "stdout",
     "output_type": "stream",
     "text": [
      "Confusion Matrix :\n",
      "[[9808  578]\n",
      " [ 540 9198]]\n",
      "Accuracy Score : 0.9444444444444444\n",
      "Report : \n",
      "              precision    recall  f1-score   support\n",
      "\n",
      "         0.0       0.95      0.94      0.95     10386\n",
      "         1.0       0.94      0.94      0.94      9738\n",
      "\n",
      "    accuracy                           0.94     20124\n",
      "   macro avg       0.94      0.94      0.94     20124\n",
      "weighted avg       0.94      0.94      0.94     20124\n",
      "\n"
     ]
    }
   ],
   "source": [
    "# Calculating the accuracy of the implementation of the maximum likelihood estimation with gradient ascent:\n",
    "# (Thanks to the help of the scikit-learn library).\n",
    "\n",
    "actual2 = f2['Label']\n",
    "predicted2 = f2['Classifier']\n",
    "cf2 = confusion_matrix(actual2, predicted2)\n",
    "\n",
    "print('Confusion Matrix :')\n",
    "print(cf2) \n",
    "print('Accuracy Score :',accuracy_score(actual2, predicted2)) \n",
    "print('Report : ')\n",
    "print(classification_report(actual2, predicted2)) "
   ]
  }
 ],
 "metadata": {
  "kernelspec": {
   "display_name": "Python 3",
   "language": "python",
   "name": "python3"
  },
  "language_info": {
   "codemirror_mode": {
    "name": "ipython",
    "version": 3
   },
   "file_extension": ".py",
   "mimetype": "text/x-python",
   "name": "python",
   "nbconvert_exporter": "python",
   "pygments_lexer": "ipython3",
   "version": "3.7.4"
  }
 },
 "nbformat": 4,
 "nbformat_minor": 4
}
